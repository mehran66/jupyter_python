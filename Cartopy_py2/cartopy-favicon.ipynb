{
 "cells": [
  {
   "cell_type": "code",
   "execution_count": null,
   "metadata": {},
   "outputs": [],
   "source": [
    "import cartopy.crs as ccrs\n",
    "import matplotlib.pyplot as plt\n",
    "import matplotlib.textpath\n",
    "import matplotlib.patches\n",
    "from matplotlib.font_manager import FontProperties\n",
    "import numpy as np\n"
   ]
  },
  {
   "cell_type": "code",
   "execution_count": null,
   "metadata": {},
   "outputs": [],
   "source": [
    "\n",
    "\n",
    "def main():\n",
    "    fig = plt.figure(figsize=[8, 8])\n",
    "    ax = fig.add_subplot(1, 1, 1, projection=ccrs.SouthPolarStereo())\n",
    "\n",
    "    ax.coastlines()\n",
    "    ax.gridlines()\n",
    "\n",
    "    im = ax.stock_img()\n",
    "\n",
    "    def on_draw(event=None):\n",
    "        \"\"\"\n",
    "        Hook into matplotlib's event mechanism to define the clip path of the\n",
    "        background image.\n",
    "\n",
    "        \"\"\"\n",
    "        # Clip the image to the current background boundary.\n",
    "        im.set_clip_path(ax.background_patch.get_path(),\n",
    "                         transform=ax.background_patch.get_transform())\n",
    "\n",
    "    # Register the on_draw method and call it once now.\n",
    "    fig.canvas.mpl_connect('draw_event', on_draw)\n",
    "    on_draw()\n",
    "\n",
    "    # Generate a matplotlib path representing the character \"C\".\n",
    "    fp = FontProperties(family='Bitstream Vera Sans', weight='bold')\n",
    "    logo_path = matplotlib.textpath.TextPath((-4.5e7, -3.7e7),\n",
    "                                             'C', size=1, prop=fp)\n",
    "\n",
    "    # Scale the letter up to an appropriate X and Y scale.\n",
    "    logo_path._vertices *= np.array([103250000, 103250000])\n",
    "\n",
    "    # Add the path as a patch, drawing black outlines around the text.\n",
    "    patch = matplotlib.patches.PathPatch(logo_path, facecolor='white',\n",
    "                                         edgecolor='black', linewidth=10,\n",
    "                                         transform=ccrs.SouthPolarStereo())\n",
    "    ax.add_patch(patch)\n",
    "    plt.show()\n",
    "\n"
   ]
  },
  {
   "cell_type": "code",
   "execution_count": null,
   "metadata": {},
   "outputs": [],
   "source": [
    "main()"
   ]
  },
  {
   "cell_type": "code",
   "execution_count": null,
   "metadata": {},
   "outputs": [],
   "source": []
  }
 ],
 "metadata": {
  "kernelspec": {
   "display_name": "Python 2",
   "language": "python",
   "name": "python2"
  },
  "language_info": {
   "codemirror_mode": {
    "name": "ipython",
    "version": 2
   },
   "file_extension": ".py",
   "mimetype": "text/x-python",
   "name": "python",
   "nbconvert_exporter": "python",
   "pygments_lexer": "ipython2",
   "version": "2.7.15+"
  }
 },
 "nbformat": 4,
 "nbformat_minor": 2
}
