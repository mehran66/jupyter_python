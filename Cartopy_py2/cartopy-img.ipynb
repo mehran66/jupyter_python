{
 "cells": [
  {
   "cell_type": "code",
   "execution_count": null,
   "metadata": {},
   "outputs": [],
   "source": [
    "try:\n",
    "    from urllib2 import urlopen\n",
    "except ImportError:\n",
    "    from urllib.request import urlopen\n",
    "from io import BytesIO\n",
    "\n",
    "import cartopy.crs as ccrs\n",
    "import matplotlib.pyplot as plt\n",
    "import numpy as np\n",
    "from PIL import Image\n"
   ]
  },
  {
   "cell_type": "code",
   "execution_count": null,
   "metadata": {},
   "outputs": [],
   "source": [
    "\n",
    "def vesta_image():\n",
    "    \"\"\"\n",
    "    Return an image of Vesta's topography.\n",
    "\n",
    "    Image credit: NASA/JPL-Caltech/UCLA/MPS/DLR/IDA/PSI\n",
    "\n",
    "    Returns\n",
    "    -------\n",
    "    img : numpy array\n",
    "        The pixels of the image in a numpy array.\n",
    "    img_proj : cartopy CRS\n",
    "        The rectangular coordinate system of the image.\n",
    "    img_extent : tuple of floats\n",
    "        The extent of the image ``(x0, y0, x1, y1)`` referenced in\n",
    "        the ``img_proj`` coordinate system.\n",
    "\n",
    "    \"\"\"\n",
    "    url = 'https://www.nasa.gov/sites/default/files/pia17037.jpg'\n",
    "    img_handle = BytesIO(urlopen(url).read())\n",
    "    raw_image = Image.open(img_handle)\n",
    "    # The image is extremely high-resolution, which takes a long time to\n",
    "    # plot. Sub-sampling reduces the time taken to plot while not\n",
    "    # significantly altering the integrity of the result.\n",
    "    smaller_image = raw_image.resize([raw_image.size[0] // 10,\n",
    "                                      raw_image.size[1] // 10])\n",
    "    img = np.asarray(smaller_image)\n",
    "    # We define the semimajor and semiminor axes, but must also tell the\n",
    "    # globe not to use the WGS84 ellipse, which is its default behaviour.\n",
    "    img_globe = ccrs.Globe(semimajor_axis=285000., semiminor_axis=229000.,\n",
    "                           ellipse=None)\n",
    "    img_proj = ccrs.PlateCarree(globe=img_globe)\n",
    "    img_extent = (-895353.906273091, 895353.906273091,\n",
    "                  447676.9531365455, -447676.9531365455)\n",
    "    return img, img_globe, img_proj, img_extent\n",
    "\n",
    "\n",
    "def main():\n",
    "    img, globe, crs, extent = vesta_image()\n",
    "    projection = ccrs.Geostationary(globe=globe)\n",
    "\n",
    "    fig = plt.figure()\n",
    "    ax = fig.add_subplot(1, 1, 1, projection=projection)\n",
    "    ax.imshow(img, transform=crs, extent=extent)\n",
    "    fig.text(.075, .012, \"Image credit: NASA/JPL-Caltech/UCLA/MPS/DLR/IDA/PSI\",\n",
    "             bbox={'facecolor': 'w', 'edgecolor': 'k'})\n",
    "    plt.show()\n"
   ]
  },
  {
   "cell_type": "code",
   "execution_count": null,
   "metadata": {},
   "outputs": [],
   "source": [
    "main()"
   ]
  },
  {
   "cell_type": "code",
   "execution_count": null,
   "metadata": {},
   "outputs": [],
   "source": []
  }
 ],
 "metadata": {
  "kernelspec": {
   "display_name": "Python 2",
   "language": "python",
   "name": "python2"
  },
  "language_info": {
   "codemirror_mode": {
    "name": "ipython",
    "version": 2
   },
   "file_extension": ".py",
   "mimetype": "text/x-python",
   "name": "python",
   "nbconvert_exporter": "python",
   "pygments_lexer": "ipython2",
   "version": "2.7.15+"
  }
 },
 "nbformat": 4,
 "nbformat_minor": 2
}
