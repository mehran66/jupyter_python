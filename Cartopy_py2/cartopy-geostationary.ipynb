{
 "cells": [
  {
   "cell_type": "markdown",
   "metadata": {},
   "source": [
    "Reprojecting images from a Geostationary projection\n",
    "---------------------------------------------------\n",
    "\n",
    "This example demonstrates Cartopy's ability to project images into the desired\n",
    "projection on-the-fly. The image itself is retrieved from a URL and is loaded\n",
    "directly into memory without storing it intermediately into a file. It\n",
    "represents pre-processed data from the Spinning Enhanced Visible and Infrared\n",
    "Imager onboard Meteosat Second Generation, which has been put into an image in\n",
    "the data's native Geostationary coordinate system - it is then projected by\n",
    "cartopy into a global Miller map.  (requires net connection)"
   ]
  },
  {
   "cell_type": "code",
   "execution_count": null,
   "metadata": {},
   "outputs": [],
   "source": [
    "try:\n",
    "    from urllib2 import urlopen\n",
    "except ImportError:\n",
    "    from urllib.request import urlopen\n",
    "from io import BytesIO\n",
    "\n",
    "import cartopy.crs as ccrs\n",
    "import matplotlib.pyplot as plt\n"
   ]
  },
  {
   "cell_type": "code",
   "execution_count": null,
   "metadata": {},
   "outputs": [],
   "source": [
    "def geos_image():\n",
    "    \"\"\"\n",
    "    Return a specific SEVIRI image by retrieving it from a github gist URL.\n",
    "\n",
    "    Returns\n",
    "    -------\n",
    "    img : numpy array\n",
    "        The pixels of the image in a numpy array.\n",
    "    img_proj : cartopy CRS\n",
    "        The rectangular coordinate system of the image.\n",
    "    img_extent : tuple of floats\n",
    "        The extent of the image ``(x0, y0, x1, y1)`` referenced in\n",
    "        the ``img_proj`` coordinate system.\n",
    "    origin : str\n",
    "        The origin of the image to be passed through to matplotlib's imshow.\n",
    "\n",
    "    \"\"\"\n",
    "    url = ('https://gist.github.com/pelson/5871263/raw/'\n",
    "           'EIDA50_201211061300_clip2.png')\n",
    "    img_handle = BytesIO(urlopen(url).read())\n",
    "    img = plt.imread(img_handle)\n",
    "    img_proj = ccrs.Geostationary(satellite_height=35786000)\n",
    "    img_extent = [-5500000, 5500000, -5500000, 5500000]\n",
    "    return img, img_proj, img_extent, 'upper'\n",
    "\n"
   ]
  },
  {
   "cell_type": "code",
   "execution_count": null,
   "metadata": {},
   "outputs": [],
   "source": [
    "def main():\n",
    "    fig = plt.figure()\n",
    "    ax = fig.add_subplot(1, 1, 1, projection=ccrs.Miller())\n",
    "    ax.coastlines()\n",
    "    ax.set_global()\n",
    "    print('Retrieving image...')\n",
    "    img, crs, extent, origin = geos_image()\n",
    "    print('Projecting and plotting image (this may take a while)...')\n",
    "    ax.imshow(img, transform=crs, extent=extent, origin=origin, cmap='gray')\n",
    "    plt.show()\n"
   ]
  },
  {
   "cell_type": "code",
   "execution_count": null,
   "metadata": {},
   "outputs": [],
   "source": [
    "main()"
   ]
  },
  {
   "cell_type": "code",
   "execution_count": null,
   "metadata": {},
   "outputs": [],
   "source": []
  }
 ],
 "metadata": {
  "kernelspec": {
   "display_name": "Python 2",
   "language": "python",
   "name": "python2"
  },
  "language_info": {
   "codemirror_mode": {
    "name": "ipython",
    "version": 2
   },
   "file_extension": ".py",
   "mimetype": "text/x-python",
   "name": "python",
   "nbconvert_exporter": "python",
   "pygments_lexer": "ipython2",
   "version": "2.7.15+"
  }
 },
 "nbformat": 4,
 "nbformat_minor": 2
}
