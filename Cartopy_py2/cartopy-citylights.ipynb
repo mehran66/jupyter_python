{
 "cells": [
  {
   "cell_type": "markdown",
   "metadata": {},
   "source": [
    "Interactive WMTS (Web Map Tile Service)\n",
    "---------------------------------------\n",
    "\n",
    "This example demonstrates the interactive pan and zoom capability\n",
    "supported by an OGC web services Web Map Tile Service (WMTS) aware axes.\n",
    "\n",
    "The example WMTS layer is a single composite of data sampled over nine days\n",
    "in April 2012 and thirteen days in October 2012 showing the Earth at night.\n",
    "It does not vary over time.\n",
    "\n",
    "The imagery was collected by the Suomi National Polar-orbiting Partnership\n",
    "(Suomi NPP) weather satellite operated by the United States National Oceanic\n",
    "and Atmospheric Administration (NOAA)."
   ]
  },
  {
   "cell_type": "code",
   "execution_count": null,
   "metadata": {},
   "outputs": [],
   "source": [
    "import matplotlib.pyplot as plt\n",
    "import cartopy.crs as ccrs\n"
   ]
  },
  {
   "cell_type": "code",
   "execution_count": null,
   "metadata": {},
   "outputs": [],
   "source": [
    "def main():\n",
    "    url = 'https://map1c.vis.earthdata.nasa.gov/wmts-geo/wmts.cgi'\n",
    "    layer = 'VIIRS_CityLights_2012'\n",
    "\n",
    "    fig = plt.figure()\n",
    "    ax = fig.add_subplot(1, 1, 1, projection=ccrs.PlateCarree())\n",
    "    ax.add_wmts(url, layer)\n",
    "    ax.set_extent([-15, 25, 35, 60], crs=ccrs.PlateCarree())\n",
    "\n",
    "    ax.set_title('Suomi NPP Earth at night April/October 2012')\n",
    "    plt.show()\n"
   ]
  },
  {
   "cell_type": "code",
   "execution_count": null,
   "metadata": {},
   "outputs": [],
   "source": [
    "main()"
   ]
  },
  {
   "cell_type": "code",
   "execution_count": null,
   "metadata": {},
   "outputs": [],
   "source": []
  }
 ],
 "metadata": {
  "kernelspec": {
   "display_name": "Python 2",
   "language": "python",
   "name": "python2"
  },
  "language_info": {
   "codemirror_mode": {
    "name": "ipython",
    "version": 2
   },
   "file_extension": ".py",
   "mimetype": "text/x-python",
   "name": "python",
   "nbconvert_exporter": "python",
   "pygments_lexer": "ipython2",
   "version": "2.7.15+"
  }
 },
 "nbformat": 4,
 "nbformat_minor": 2
}
