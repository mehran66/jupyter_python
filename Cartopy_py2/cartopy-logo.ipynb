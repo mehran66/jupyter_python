{
 "cells": [
  {
   "cell_type": "code",
   "execution_count": null,
   "metadata": {},
   "outputs": [],
   "source": [
    "import cartopy.crs as ccrs\n",
    "import matplotlib.pyplot as plt\n",
    "import matplotlib.textpath\n",
    "import matplotlib.patches\n",
    "from matplotlib.font_manager import FontProperties\n",
    "import numpy as np\n"
   ]
  },
  {
   "cell_type": "code",
   "execution_count": null,
   "metadata": {},
   "outputs": [],
   "source": [
    "\n",
    "def main():\n",
    "    fig = plt.figure(figsize=[12, 6])\n",
    "    ax = fig.add_subplot(1, 1, 1, projection=ccrs.Robinson())\n",
    "\n",
    "    ax.coastlines()\n",
    "    ax.gridlines()\n",
    "\n",
    "    # generate a matplotlib path representing the word \"cartopy\"\n",
    "    fp = FontProperties(family='Bitstream Vera Sans', weight='bold')\n",
    "    logo_path = matplotlib.textpath.TextPath((-175, -35), 'cartopy',\n",
    "                                             size=1, prop=fp)\n",
    "    # scale the letters up to sensible longitude and latitude sizes\n",
    "    logo_path._vertices *= np.array([80, 160])\n",
    "\n",
    "    # add a background image\n",
    "    im = ax.stock_img()\n",
    "    # clip the image according to the logo_path. mpl v1.2.0 does not support\n",
    "    # the transform API that cartopy makes use of, so we have to convert the\n",
    "    # projection into a transform manually\n",
    "    plate_carree_transform = ccrs.PlateCarree()._as_mpl_transform(ax)\n",
    "    im.set_clip_path(logo_path, transform=plate_carree_transform)\n",
    "\n",
    "    # add the path as a patch, drawing black outlines around the text\n",
    "    patch = matplotlib.patches.PathPatch(logo_path,\n",
    "                                         facecolor='none', edgecolor='black',\n",
    "                                         transform=ccrs.PlateCarree())\n",
    "    ax.add_patch(patch)\n",
    "\n",
    "    plt.show()\n"
   ]
  },
  {
   "cell_type": "code",
   "execution_count": null,
   "metadata": {},
   "outputs": [],
   "source": [
    "main()"
   ]
  },
  {
   "cell_type": "code",
   "execution_count": null,
   "metadata": {},
   "outputs": [],
   "source": []
  }
 ],
 "metadata": {
  "kernelspec": {
   "display_name": "Python 2",
   "language": "python",
   "name": "python2"
  },
  "language_info": {
   "codemirror_mode": {
    "name": "ipython",
    "version": 2
   },
   "file_extension": ".py",
   "mimetype": "text/x-python",
   "name": "python",
   "nbconvert_exporter": "python",
   "pygments_lexer": "ipython2",
   "version": "2.7.15+"
  }
 },
 "nbformat": 4,
 "nbformat_minor": 2
}
