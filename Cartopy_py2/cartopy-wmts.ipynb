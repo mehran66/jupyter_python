{
 "cells": [
  {
   "cell_type": "markdown",
   "metadata": {},
   "source": [
    "Web Map Tile Service time dimension demonstration\n",
    "-------------------------------------------------\n",
    "\n",
    "This example further demonstrates WMTS support within cartopy. Optional\n",
    "keyword arguments can be supplied to the OGC WMTS 'gettile' method. This\n",
    "allows for the specification of the 'time' dimension for a WMTS layer\n",
    "which supports it.\n",
    "\n",
    "The example shows satellite imagery retrieved from NASA's Global Imagery\n",
    "Browse Services for 5th Feb 2016. A true color MODIS image is shown on\n",
    "the left, with the MODIS false color 'snow RGB' shown on the right."
   ]
  },
  {
   "cell_type": "code",
   "execution_count": null,
   "metadata": {},
   "outputs": [],
   "source": [
    "\n",
    "import matplotlib.pyplot as plt\n",
    "import matplotlib.patheffects as PathEffects\n",
    "from owslib.wmts import WebMapTileService\n",
    "\n",
    "import cartopy.crs as ccrs\n"
   ]
  },
  {
   "cell_type": "code",
   "execution_count": null,
   "metadata": {},
   "outputs": [],
   "source": [
    "\n",
    "\n",
    "def main():\n",
    "    # URL of NASA GIBS\n",
    "    URL = 'http://gibs.earthdata.nasa.gov/wmts/epsg4326/best/wmts.cgi'\n",
    "    wmts = WebMapTileService(URL)\n",
    "\n",
    "    # Layers for MODIS true color and snow RGB\n",
    "    layers = ['MODIS_Terra_SurfaceReflectance_Bands143',\n",
    "              'MODIS_Terra_CorrectedReflectance_Bands367']\n",
    "\n",
    "    date_str = '2016-02-05'\n",
    "\n",
    "    # Plot setup\n",
    "    plot_CRS = ccrs.Mercator()\n",
    "    geodetic_CRS = ccrs.Geodetic()\n",
    "    x0, y0 = plot_CRS.transform_point(4.6, 43.1, geodetic_CRS)\n",
    "    x1, y1 = plot_CRS.transform_point(11.0, 47.4, geodetic_CRS)\n",
    "    ysize = 8\n",
    "    xsize = 2 * ysize * (x1 - x0) / (y1 - y0)\n",
    "    fig = plt.figure(figsize=(xsize, ysize), dpi=100)\n",
    "\n",
    "    for layer, offset in zip(layers, [0, 0.5]):\n",
    "        ax = fig.add_axes([offset, 0, 0.5, 1], projection=plot_CRS)\n",
    "        ax.set_xlim((x0, x1))\n",
    "        ax.set_ylim((y0, y1))\n",
    "        ax.add_wmts(wmts, layer, wmts_kwargs={'time': date_str})\n",
    "        txt = ax.text(4.7, 43.2, wmts[layer].title, fontsize=18, color='wheat',\n",
    "                      transform=geodetic_CRS)\n",
    "        txt.set_path_effects([PathEffects.withStroke(linewidth=5,\n",
    "                                                     foreground='black')])\n",
    "    plt.show()\n"
   ]
  },
  {
   "cell_type": "code",
   "execution_count": null,
   "metadata": {},
   "outputs": [],
   "source": [
    "main()"
   ]
  },
  {
   "cell_type": "code",
   "execution_count": null,
   "metadata": {},
   "outputs": [],
   "source": []
  }
 ],
 "metadata": {
  "kernelspec": {
   "display_name": "Python 2",
   "language": "python",
   "name": "python2"
  },
  "language_info": {
   "codemirror_mode": {
    "name": "ipython",
    "version": 2
   },
   "file_extension": ".py",
   "mimetype": "text/x-python",
   "name": "python",
   "nbconvert_exporter": "python",
   "pygments_lexer": "ipython2",
   "version": "2.7.15+"
  }
 },
 "nbformat": 4,
 "nbformat_minor": 2
}
