{
 "cells": [
  {
   "cell_type": "markdown",
   "metadata": {},
   "source": [
    "<div style=\"float: right;\">\n",
    "    <img src=\"http://www.bigdatacube.org/img/portfolio/rasdaman-logo.png\" width=\"250\" style=\"display: inline-block;\"/>\n",
    "</div>"
   ]
  },
  {
   "cell_type": "markdown",
   "metadata": {},
   "source": [
    "# BigDataCube Tutorial\n",
    "\n",
    "This notebook gives a quick overview of the capabilities of the *BigDataCube* service running at CODE-DE. This service is in fact a *rasdaman* server (http://rasdaman.org) which handles requests conforming to one of the following Open Geospatial Consortium (OGC) standards:\n",
    "\n",
    "- *WCS* (Web Coverage Service)\n",
    "- *WCPS* (Web Coverage Processing Service)\n",
    "- *WMS* (Web Map Service)\n",
    "\n",
    "Requests can address any of the rasdaman datacubes built from Copernicus data at CODE-DE:\n",
    "\n",
    "- **Sentinel 2**\n",
    "    - *Date range*: 2018/01/01 - 2019/04/30\n",
    "    - *CRS*: varying for each datacube depending on the UTM zone it covers\n",
    "    - *Datacube names*: `S2G5_${utmCrsCode}_${resolution}_${level}`\n",
    "        - `${utmCrsCode}` - the EPSG code for datacube CRS: 32601 - 32660 (N) and 32701 - 32760 (S)\n",
    "        - `${resolution}` - 10m, 20m, 60m, or TCI\n",
    "        - `${level}` - L1C or L2A\n",
    "        - *Example*: `S2G5_32632_10m_L2A`\n",
    "- **Sentinel 1 GRD over Germany**\n",
    "    - *Date range*: 2019/01/01 - 2019/03/24\n",
    "    - *CRS*: EPSG:4326\n",
    "    - *Datacube names*: `S1G5_GRD_${modebeam}_${polarisation}`\n",
    "        - `${modebeam}` - EW, IW\n",
    "        - `${polarisation}` - HH, HV, VV, VH\n",
    "        - *Example*: `S1G5_32632_10m_L2A`\n",
    "- **Sentinel 1 GRD over the North Sea** (sea state and windspeed products produced with DLR's SAINT tool)\n",
    "    - *Date range*: 2018/01/01 - 2019/03/27\n",
    "    - *CRS*: EPSG:4326\n",
    "    - *Datacube names*: `S1_hs_w` (sea state), `S1_windspeed_w` (wind speed)\n",
    "\n",
    "All OGC requests should be sent to the following endpoint:\n",
    "\n",
    "- https://processing.code-de.org/rasdaman/ows\n",
    "\n",
    "The notebook continues with various examples of requests / queries on these datacubes."
   ]
  },
  {
   "cell_type": "markdown",
   "metadata": {},
   "source": [
    "## OGC WCS Requests\n",
    "\n",
    "OGC *WCS* (Web Coverage Service) is a standarized data access protocol on datacubes (*coverages* in OGC terminology). A WCS request can be sent to the BigDataCube server via the base URL below by appending either one of the core operations or some extension like scaling, reprojection, range subsetting, processing, etc:\n",
    "\n",
    "https://processing.code-de.org/rasdaman/ows?service=WCS&version=2.0.1&request=...\n",
    "\n",
    "WCS supports 3 core requests: *GetCapabilities* and *DescribeCoverage* help discover available datacubes, while  *GetCoverage* is used to download whole or a part of a coverage, in a chosen resolution / CRS / format encoding.\n",
    "\n",
    "* **GetCapabilities** - returns XML-encoded description of service properties and a summary of all coverages available on the server:\n",
    "    \n",
    "  https://processing.code-de.org/rasdaman/ows?service=WCS&version=2.0.1&request=GetCapabilities\n",
    "    \n",
    "\n",
    "* **Describe Coverage** - returns XML-encoded description of a specific coverage, e.g:\n",
    "\n",
    "  https://processing.code-de.org/rasdaman/ows?service=WCS&version=2.0.1&request=DescribeCoverage&coverageId=S2G5_32632_TCI_L1C\n",
    "\n",
    "\n",
    "* **GetCoverage** - returns a *full* coverage or a spatio-temporal *subset* (slicing and trimming on coverage axes). This example selects the area between coordinates E(410827.774058,423495.854389) and N(5955107.75272,5963032.77898) on date 2018-05-25, and encodes the result as a PNG image:\n",
    "    \n",
    "  https://processing.code-de.org/rasdaman/ows?&SERVICE=WCS&VERSION=2.0.1&REQUEST=GetCoverage&COVERAGEID=S2G5_32632_TCI_L1C&SUBSET=ansi(%222018-05-25%22)&FORMAT=image/png&SUBSET=E(410827.774058,423495.854389)&SUBSET=N(5955107.75272,5963032.77898)\n",
    "    \n",
    "  <img src=\"http://www.rasdaman.com/assets/img/cube-slicing.png\" width=\"350\" height=\"250\"/>\n",
    "  <p style=\"text-align:center;\"><b>Trimming / Slicing on 3D data cube to get a subset coverage</b></p>\n"
   ]
  },
  {
   "cell_type": "markdown",
   "metadata": {},
   "source": [
    "### How to integrate WCS requests into a python script\n",
    "\n",
    "You can install required Python libraries for demos with the *pip* tool https://pypi.org/project/pip/."
   ]
  },
  {
   "cell_type": "code",
   "execution_count": null,
   "metadata": {},
   "outputs": [],
   "source": [
    "# Install required libraries\n",
    "## *note: osgeolive 13 preinstalled\n",
    "#pip install requests\n",
    "#pip install owslib\n",
    "#pip install numpy"
   ]
  },
  {
   "cell_type": "markdown",
   "metadata": {},
   "source": [
    "\n",
    "* The *requests* library can be used to send requests to server and parse result (*if in XML*) manually."
   ]
  },
  {
   "cell_type": "code",
   "execution_count": null,
   "metadata": {
    "scrolled": false
   },
   "outputs": [],
   "source": [
    "# Using requests library to send GET/POST requests to server\n",
    "import requests\n",
    "\n",
    "# Set base url which can be used in further code examples\n",
    "service_endpoint = \"https://processing.code-de.org/rasdaman/ows\"\n",
    "base_wcs_url = service_endpoint + \"?service=WCS&version=2.0.1\"\n",
    "\n",
    "result = requests.get(base_wcs_url + \"&request=GetCapabilities\")\n",
    "\n",
    "# Result is an XML document which can be parsed to extract \n",
    "# information such as coverage identifier, dimensions, axis labels, ...\n",
    "print(result.text)"
   ]
  },
  {
   "cell_type": "markdown",
   "metadata": {},
   "source": [
    "* Alternatively, the *OWSlib* library can be used as a more convenient way to parse WCS responses:"
   ]
  },
  {
   "cell_type": "code",
   "execution_count": null,
   "metadata": {},
   "outputs": [],
   "source": [
    "# Get result of GetCapabilities request\n",
    "from owslib.wcs import WebCoverageService\n",
    "\n",
    "my_wcs = WebCoverageService(service_endpoint, version=\"2.0.1\")\n",
    "                            \n",
    "# Print all available coverages                    \n",
    "print(my_wcs.contents.keys())"
   ]
  },
  {
   "cell_type": "code",
   "execution_count": null,
   "metadata": {},
   "outputs": [],
   "source": [
    "# Select a coverage (3D irregular coverage) to describe and set it to a reference variable\n",
    "cov = my_wcs.contents[\"S2G5_32632_TCI_L1C\"]\n",
    "\n",
    "# Get number of dimensions of coverage\n",
    "print cov.grid.dimension"
   ]
  },
  {
   "cell_type": "code",
   "execution_count": null,
   "metadata": {},
   "outputs": [],
   "source": [
    "# Get coverage axis labels with order according to coverage's Coordinate Reference System (CRS)\n",
    "print cov.grid.axislabels"
   ]
  },
  {
   "cell_type": "code",
   "execution_count": null,
   "metadata": {},
   "outputs": [],
   "source": [
    "# Get coverage's time axis's domain (as this coverage is 3D with time axis)\n",
    "print cov._getTimeLimits()"
   ]
  },
  {
   "cell_type": "code",
   "execution_count": null,
   "metadata": {},
   "outputs": [],
   "source": [
    "# Get coverage's grid lower/upper limits\n",
    "print cov.grid.lowlimits, cov.grid.highlimits"
   ]
  },
  {
   "cell_type": "code",
   "execution_count": null,
   "metadata": {},
   "outputs": [],
   "source": [
    "# Get offset vectors of coverage (axes' resolutions are non-zero values, respectively)\n",
    "print cov.grid.offsetvectors"
   ]
  },
  {
   "cell_type": "code",
   "execution_count": null,
   "metadata": {
    "scrolled": true
   },
   "outputs": [],
   "source": [
    "# Get the list of coefficients for irregular axis (time is an irregular axis of this coverage)\n",
    "print cov.timepositions"
   ]
  },
  {
   "cell_type": "code",
   "execution_count": null,
   "metadata": {},
   "outputs": [],
   "source": [
    "# Get a subset coverage by slicing on time axis, trimming on spatial axes, and encoding result in image/png.\n",
    "\n",
    "from IPython.display import Image\n",
    "\n",
    "request = \"&REQUEST=GetCoverage\"\n",
    "cov_id = \"&COVERAGEID=S2G5_32632_TCI_L1C\"\n",
    "subset_time = \"&SUBSET=ansi(\\\"2018-05-25\\\")\"\n",
    "subset_e = \"&SUBSET=E(410827.774058,418495.854389)\"\n",
    "subset_n = \"&SUBSET=N(5957107.75272,5960032.77898)\"\n",
    "encode_format = \"&FORMAT=image/png\"\n",
    "\n",
    "response = requests.get(base_wcs_url + request + cov_id + subset_time + subset_e + subset_n + encode_format)\n",
    "print base_wcs_url + request + cov_id + subset_time + subset_e + subset_n + encode_format\n",
    "\n",
    "# Display result directly\n",
    "Image(data=response.content)"
   ]
  },
  {
   "cell_type": "markdown",
   "metadata": {},
   "source": [
    "## OGC WCPS Requests\n",
    "\n",
    "OGC *WCPS* (Web Coverage Processing Service) is an extension of WCS which allows extraction, analysis and filtering of coverages. It establishes a protocol to send a query string (similar to XQuery) to a server and obtain, as a result of the server's processing, a set of result coverages or aggregated scalar values.\n",
    "\n",
    "The so-called \"processing expression\" is applied on each of the coverages specified in the given list (*coverageList*), given that the optional filter expression returns true when evaluated on the coverage. Each coverage is referred to in the query by its alias (*variableName*). A processing expression branches down to a miscellanea of possible sub-expressions that are able to return either *scalars (scalar expressions)* or *encoded marrays (coverage expressions)* and operate on both the *data and metadata* of a coverage. More details at http://tutorial.rasdaman.org/rasdaman-and-ogc-ws-tutorial/#ogc-web-services-web-coverage-processing-service.\n",
    "\n",
    "A WCPS request can be sent to the BigDataCube server via the base URL below by appending a query string:\n",
    "\n",
    "https://processing.code-de.org/rasdaman/ows?service=WCS&version=2.0.1&request=ProcessCoverages&query=...\n",
    "\n",
    "The following query is equivalent to the previous WCS request which selects a 2D subset from a 3D coverage, and encodes the result as a PNG image:\n",
    "\n",
    "```\n",
    "for $c in (S2G5_32632_TCI_L1C)\n",
    "return \n",
    "  encode(\n",
    "      $c[ E( 410827.774058 : 423495.854389 ), \n",
    "          N( 5955107.75272 : 5963032.77898 ), \n",
    "          ansi( \"2018-05-25\" ) ], \n",
    "      \"image/png\" )\n",
    "```\n",
    "*NOTE:* for GET requests, the WCPS query cannot contain new lines or special URL characters like whitespace; the query above is formatted with new lines to make it clearer. To format it correctly before appending to the base URL, the query must be encoded, e.g. with https://meyerweb.com/eric/tools/dencoder/ After encoding, we have the following GET request:\n",
    "\n",
    "<https://processing.code-de.org/rasdaman/ows?service=WCS&version=2.0.1&request=ProcessCoverages&query=for%20%24c%20in%20(S2G5_32632_TCI_L1C)%0Areturn%20%0A%20%20encode(%0A%20%20%20%20%20%20%24c%5B%20E(%20410827.774058%20%3A%20423495.854389%20)%2C%20%0A%20%20%20%20%20%20%20%20%20%20N(%205955107.75272%20%3A%205963032.77898%20)%2C%20%0A%20%20%20%20%20%20%20%20%20%20ansi(%20%222018-05-25%22%20)%20%5D%2C%20%0A%20%20%20%20%20%20%22image%2Fpng%22%20)>\n",
    "\n",
    "Step-by-step explanation of the query components:\n",
    "\n",
    "- `$c` - the coverage variable, an alias for the coverages in the coverage list (only `S2G5_32632_TCI_L1C` in the query above)\n",
    "- `return` - contains the processing expression, which returns an encoded coverage (as in the example), a scalar value from an aggregation expression, or a metadata value\n",
    "- `encode` - a function which takes a coverage expression and encodes it to the desired format (PNG in the example)\n",
    "- `$c[ ... ]` - this is a coverage subsetting expression, where upper and lower limits are specified to restrict the axes in the result as needed; on the time axis a single slice point is specified (2018-05-25) which leads to removing this axis in the result, while on the spatial axes (E and N) we specify upper and lower bounds.\n",
    "\n",
    "### Change visualization\n",
    "\n",
    "*WCPS* allows expressing much more complex processing than *WCS*. For example, below we do time-series processing: calculate the difference between B1 bands of 2 datetime slices from the 60m coverage. As can be noticed in the query, we can add, multiply, or do other math operations directly on coverages in order to adjust the calculation; in particularly we do this below in order to fit the result values in the range of [0, 255] for encoding to JPEG."
   ]
  },
  {
   "cell_type": "code",
   "execution_count": null,
   "metadata": {},
   "outputs": [],
   "source": [
    "query = '''\n",
    "for $c in (S2G5_32632_60m_L1C) \n",
    "return\n",
    "  encode(\n",
    "    ( 0.20 * ( 1050.0 + ( \n",
    "                (float) $c.B1[ ansi( \"2018-05-25\" ) ] - \n",
    "                        $c.B1[ ansi( \"2018-05-10\" ) ] ) \n",
    "            ) \n",
    "    )[ E( 410827.774058 : 423495.854389 ), N( 5955107.75272 : 5963032.77898 ) ]\n",
    "   , \"image/jpeg\")\n",
    "'''\n",
    "\n",
    "# Send a WCPS query for evaluation on the rasdaman server; as WCPS queries usually contain \n",
    "# special characters like '[', ']', '{', '}', it is necessary to send POST requests. \n",
    "response = requests.post(service_endpoint, data = {'query': query})\n",
    "\n",
    "# Display result directly\n",
    "#print response.content\n",
    "Image(data=response.content)"
   ]
  },
  {
   "cell_type": "markdown",
   "metadata": {},
   "source": [
    "### Band math\n",
    "\n",
    "How about calculating an *NDVI* (Normalized Difference Vegetation Index)? Let's first change the subsetted area to a part of Bremen, Germany, covering both urban and agricultural areas."
   ]
  },
  {
   "cell_type": "code",
   "execution_count": null,
   "metadata": {},
   "outputs": [],
   "source": [
    "query = '''\n",
    "for $c in (S2G5_32632_TCI_L1C)\n",
    "return \n",
    "  encode(\n",
    "      $c[ ansi( \"2018-05-25\" ), E( 484000 : 493000 ), N( 5874000 : 5877000 ) ] * 1.3, \n",
    "      \"image/jpeg\" )\n",
    "'''\n",
    "response = requests.post(service_endpoint, data = {'query': query})\n",
    "Image(data=response.content)"
   ]
  },
  {
   "cell_type": "markdown",
   "metadata": {},
   "source": [
    "This NDVI can be derived from the B8 (near-infrared) and B4 (red) bands of the 10m coverage. In the query below we highlight the index values greater than 0.5 (higher vegetation) as white, while everything else is black."
   ]
  },
  {
   "cell_type": "code",
   "execution_count": null,
   "metadata": {},
   "outputs": [],
   "source": [
    "query = '''\n",
    "for $c in (S2G5_32632_10m_L1C) \n",
    "return\n",
    "  encode(\n",
    "    (((float) $c.B8 - $c.B4) / ((float) $c.B8 + $c.B4))\n",
    "    [ ansi( \"2018-05-25\" ), E( 484000 : 493000 ), N( 5874000 : 5877000 ) ]\n",
    "    > 0.5\n",
    "   , \"image/jpeg\")\n",
    "'''\n",
    "response = requests.post(service_endpoint, data = {'query': query})\n",
    "Image(data=response.content)"
   ]
  },
  {
   "cell_type": "markdown",
   "metadata": {},
   "source": [
    "Instead of a black and white boolean map, we can transform the result to a grayscale map where vegetation can be visualized over a greater spectrum (lighter = thicker vegetation). The NDVI values are originaly in the `(-1, 1)` interval, to shift them into a `[0, 255]` interval we can add 1 to the NDVI result and then multiply it by 127.5."
   ]
  },
  {
   "cell_type": "code",
   "execution_count": null,
   "metadata": {},
   "outputs": [],
   "source": [
    "query = '''\n",
    "for $c in (S2G5_32632_10m_L1C) \n",
    "return\n",
    "  encode(\n",
    "    (((((float) $c.B8 - $c.B4) / ((float) $c.B8 + $c.B4)) + 1) * 127.5)\n",
    "    [ ansi( \"2018-05-25\" ), E( 484000 : 493000 ), N( 5874000 : 5877000 ) ]\n",
    "    \n",
    "   , \"image/jpeg\")\n",
    "'''\n",
    "response = requests.post(service_endpoint, data = {'query': query})\n",
    "Image(data=response.content)"
   ]
  },
  {
   "cell_type": "markdown",
   "metadata": {},
   "source": [
    "A *false-color composite* could easily be created from corresponding bands by just specifying them in the desired order:"
   ]
  },
  {
   "cell_type": "code",
   "execution_count": null,
   "metadata": {},
   "outputs": [],
   "source": [
    "query = '''\n",
    "for $c in (S2G5_32632_10m_L1C) \n",
    "return\n",
    "  encode(\n",
    "    scale(\n",
    "      {\n",
    "         red: $c.B8[ ansi( \"2018-05-25\" ), E( 484000 : 493000 ), N( 5874000 : 5878000 ) ] / 17.0;\n",
    "         green: $c.B4[ ansi( \"2018-05-25\" ), E( 484000 : 493000 ), N( 5874000 : 5878000 ) ] / 17.0;\n",
    "         blue: $c.B3[ ansi( \"2018-05-25\" ), E( 484000 : 493000 ), N( 5874000 : 5878000 ) ] / 17.0\n",
    "      },\n",
    "      { E:\"CRS:1\"(0:700) }\n",
    "    ) \n",
    "  , \"image/jpeg\")\n",
    "'''\n",
    "response = requests.post(service_endpoint, data = {'query': query})\n",
    "Image(data=response.content)"
   ]
  },
  {
   "cell_type": "markdown",
   "metadata": {},
   "source": [
    "What if the bands we want to combine come from coverages with different resolutions? We can scale the bands to a common resolution before the operations, e.g. below we combine B12 from a 20m coverage, and B8 / B3 from a higher resolution 10m coverage."
   ]
  },
  {
   "cell_type": "code",
   "execution_count": null,
   "metadata": {},
   "outputs": [],
   "source": [
    "query = '''\n",
    "for c in (S2G5_32632_20m_L1C), d in (S2G5_32632_10m_L1C)\n",
    "return\n",
    "  encode(\n",
    "    {\n",
    "      red: scale( c.B12[ ansi( \"2018-05-25\" ), E( 484000 : 493000 ), N( 5874000 : 5878000 )],\n",
    "                  { E:\"CRS:1\"(0:899), N:\"CRS:1\"(0:399) }) ;\n",
    "    green: scale( d.B8[ ansi( \"2018-05-25\" ), E( 484000 : 493000 ), N( 5874000 : 5878000 )],\n",
    "                  { E:\"CRS:1\"(0:899), N:\"CRS:1\"(0:399) }) ;\n",
    "     blue: scale( d.B3[ ansi( \"2018-05-25\" ), E( 484000 : 493000 ), N( 5874000 : 5878000 )], \n",
    "                  { E:\"CRS:1\"(0:899), N:\"CRS:1\"(0:399) })\n",
    "    } / 15.0\n",
    "  , \"image/jpeg\")\n",
    "'''\n",
    "response = requests.post(service_endpoint, data = {'query': query})\n",
    "Image(data=response.content)"
   ]
  },
  {
   "cell_type": "markdown",
   "metadata": {},
   "source": [
    "### Time-series aggregation\n",
    "\n",
    "Datacube aggregation is straightforward: select the desired subset and apply an aggregation function such as min, max, avg, count, etc. For example, to calculate the average NDVI value (same spatio-temporal subset as before) the following query can be utilized:"
   ]
  },
  {
   "cell_type": "code",
   "execution_count": null,
   "metadata": {},
   "outputs": [],
   "source": [
    "query = '''\n",
    "for $c in (S2G5_32632_10m_L1C) \n",
    "return\n",
    "  avg(\n",
    "    (((float) $c.B8 - $c.B4) / ((float) $c.B8 + $c.B4))\n",
    "    [ ansi( \"2018-05-25\" ), E( 484000 : 493000 ), N( 5874000 : 5880000 ) ]\n",
    "  )\n",
    "'''\n",
    "response = requests.post(service_endpoint, data = {'query': query})\n",
    "print(\"Average NDVI value: \" + response.content)"
   ]
  },
  {
   "cell_type": "markdown",
   "metadata": {},
   "source": [
    "How about calculating this average for each time point between two dates? This can be done with a *coverage constructor*, which will iterate over all dates between the two given dates, resulting in a 1D array of average NDVI values; notice that the slicing on the time axis `ansi` is done with the \"iterator\" variable `$pt`. The 1D array is encoded as JSON in the end."
   ]
  },
  {
   "cell_type": "code",
   "execution_count": null,
   "metadata": {},
   "outputs": [],
   "source": [
    "query = '''\n",
    "for $c in (S2G5_32632_10m_L1C) \n",
    "return\n",
    "  encode(\n",
    "    coverage averageNdviValues\n",
    "    over $pt t(imageCrsDomain($c[ansi(\"2018-05-20\":\"2018-05-25\")], ansi)) \n",
    "    values\n",
    "      avg(\n",
    "        (((float) $c.B8 - $c.B4) / ((float) $c.B8 + $c.B4))\n",
    "        [ ansi( $pt ), E( 484000 : 493000 ), N( 5874000 : 5880000 ) ]\n",
    "      ),\n",
    "    \"json\")\n",
    "'''\n",
    "response = requests.post(service_endpoint, data = {'query': query})\n",
    "print(\"Average NDVI values: \" + response.content)"
   ]
  },
  {
   "cell_type": "markdown",
   "metadata": {},
   "source": [
    "Furthermore, we could create an aggregated map of several time-slices. The query below selects the maximum NDVI value from each pixel of several time-slices."
   ]
  },
  {
   "cell_type": "code",
   "execution_count": null,
   "metadata": {},
   "outputs": [],
   "source": [
    "query = '''\n",
    "for $c in (S2G5_32632_10m_L1C) \n",
    "return\n",
    "  encode(\n",
    "    (\n",
    "    condense max\n",
    "    over $pt t(imageCrsDomain($c[ansi(\"2018-05-20\":\"2018-05-25\")], ansi)) \n",
    "    using\n",
    "        (((float) $c.B8 - $c.B4) / ((float) $c.B8 + $c.B4))\n",
    "        [ ansi( $pt ), E( 484000 : 493000 ), N( 5874000 : 5877000 ) ]\n",
    "    ) > 0.4,\n",
    "    \n",
    "    \"image/jpeg\")\n",
    "'''\n",
    "response = requests.post(service_endpoint, data = {'query': query})\n",
    "Image(data=response.content)"
   ]
  },
  {
   "cell_type": "markdown",
   "metadata": {},
   "source": [
    "A statistical analysis at a wind park construction site can show the historical ratio of safe working days to support construction planning. For this purpose a datacube from Sentinel 1 GRD data is queried. First we get the average wave height on days where data is available between 2018-01-01 and 2019-03-02 around the existing Amrumbank West wind park near Helgoland in the North Sea."
   ]
  },
  {
   "cell_type": "code",
   "execution_count": null,
   "metadata": {},
   "outputs": [],
   "source": [
    "%matplotlib inline\n",
    "\n",
    "import numpy as np\n",
    "import matplotlib.pyplot as pp\n",
    "\n",
    "query = '''\n",
    "for $c in (S1_hs_w) return\n",
    "encode(\n",
    "   coverage waveHeight\n",
    "   over $i ansi( imageCrsDomain($c[ansi(\"2018-01-01\" : \"2019-03-02\")], ansi) )\n",
    "   values avg($c[ Lat(54.3 : 54.6), Long(7.55 : 7.85), ansi:\"CRS:1\"($i)])\n",
    ", \"csv\")\n",
    "'''\n",
    "\n",
    "response = requests.post(service_endpoint, data = {'query': query})\n",
    "\n",
    "array = np.array(eval(response.text))\n",
    "pp.plot(array[np.where(array > 0.0)])\n",
    "pp.show()"
   ]
  },
  {
   "cell_type": "markdown",
   "metadata": {},
   "source": [
    "The following WCPS query divides the number of time-slices where waves around the wind park area are on average less or equal than 20 decimetres (2 metres) with the total number of time slices available to get a historical ratio of safe working days."
   ]
  },
  {
   "cell_type": "code",
   "execution_count": null,
   "metadata": {},
   "outputs": [],
   "source": [
    "query = '''\n",
    "for $c in (S1_hs_w) return\n",
    " count(\n",
    "   coverage safeWaveHeight\n",
    "   over $i ansi( imageCrsDomain($c[ansi(\"2018-01-01\" : \"2019-03-02\")], ansi) )\n",
    "   values (avg($c[ Lat(54.3 : 54.6), Long(7.55 : 7.85), ansi:\"CRS:1\"($i)]) < 20) and\n",
    "          (max($c[ Lat(54.3 : 54.6), Long(7.55 : 7.85), ansi:\"CRS:1\"($i)]) > 0)\n",
    " )\n",
    " /\n",
    " (\n",
    "   condense +\n",
    "   over $j ansi( imageCrsDomain($c[ansi(\"2018-01-01\" : \"2019-03-02\")], ansi) )\n",
    "   where max($c[ Lat(54.3 : 54.6), Long(7.55 : 7.85), ansi:\"CRS:1\"($j)]) > 0\n",
    "   using 1.0\n",
    " )\n",
    " * 100.0\n",
    "'''\n",
    "\n",
    "response = requests.post(service_endpoint, data = {'query': query})\n",
    "print(response.content + \" % of all days are safe for work.\")"
   ]
  },
  {
   "cell_type": "markdown",
   "metadata": {},
   "source": [
    "Wind speed is a main parameter for economic sustainability of a wind park. However, wind wakes from existing parks may reduce wind speed for several dozen kilometres. Using data derived from Sentinel-1 acquisitions, a temporal history of wind speed on a planned construction site can be retrieved, including wake effects which are often not included in wind models.\n",
    "\n",
    "On the same area as in the previous example, we now go into the `S1_windspeed_w` datacube to calculate average wind speed for each time slice with the following WCPS query:"
   ]
  },
  {
   "cell_type": "code",
   "execution_count": null,
   "metadata": {},
   "outputs": [],
   "source": [
    "query = '''\n",
    "for $c in (S1_windspeed_w)\n",
    "return encode(\n",
    "  coverage avgWindSpeed\n",
    "  over $i ansi( imageCrsDomain($c[ansi(\"2018-01-01\" : \"2019-03-02\")], ansi) )\n",
    "  values avg( $c[ Lat(54.3 : 54.6), Long(7.55 : 7.85), ansi:\"CRS:1\"($i)] )\n",
    ", \"json\")\n",
    "'''\n",
    "response = requests.post(service_endpoint, data = {'query': query})\n",
    "array = np.array(eval(response.text))\n",
    "pp.plot(array[np.where(array > 0.0)])\n",
    "pp.show()"
   ]
  },
  {
   "cell_type": "markdown",
   "metadata": {},
   "source": [
    "We can calculate the correlation between wind speed and sea height with the Pearson correlation coefficient. To do this, we get both the sea state and wind speed averages, and execute a correlation function from scipy:"
   ]
  },
  {
   "cell_type": "code",
   "execution_count": null,
   "metadata": {},
   "outputs": [],
   "source": [
    "from scipy.stats.stats import pearsonr\n",
    "\n",
    "query = '''\n",
    "for $c in (S1_windspeed_w), $d in (S1_hs_w)\n",
    "return encode(\n",
    "  coverage avgWindSpeed\n",
    "  over $i ansi( imageCrsDomain($c[ansi(\"2018-01-01\" : \"2019-03-02\")], ansi) )\n",
    "  values avg( $c[ Lat(54.3 : 54.6), Long(7.55 : 7.85), ansi:\"CRS:1\"($i)] )\n",
    ", \"json\")\n",
    "'''\n",
    "response = requests.post(service_endpoint, data = {'query': query})\n",
    "windspeed = np.array(eval(response.text))\n",
    "ws = windspeed[np.where(windspeed > 0.0)]\n",
    "\n",
    "query = '''\n",
    "for $c in (S1_windspeed_w), $d in (S1_hs_w)\n",
    "return encode(\n",
    "  coverage avgWaveHeight\n",
    "  over $j ansi( imageCrsDomain($d[ansi(\"2018-01-01\" : \"2019-03-02\")], ansi) )\n",
    "  values avg( $d[ Lat(54.3 : 54.6), Long(7.55 : 7.85), ansi:\"CRS:1\"($j)] )\n",
    ", \"json\")\n",
    "'''\n",
    "response = requests.post(service_endpoint, data = {'query': query})\n",
    "waveheight = np.array(eval(response.text))\n",
    "wh = waveheight[np.where(waveheight > 0.0)]\n",
    "\n",
    "print(\"Pearson correlation coefficient: \" + str(pearsonr(ws, wh)))"
   ]
  },
  {
   "cell_type": "markdown",
   "metadata": {},
   "source": [
    "As we can see from the result, there's a moderate positive correlation (0.37), i.e. more wind = higher sea waves."
   ]
  },
  {
   "cell_type": "code",
   "execution_count": null,
   "metadata": {},
   "outputs": [],
   "source": []
  }
 ],
 "metadata": {
  "kernelspec": {
   "display_name": "Python 2",
   "language": "python",
   "name": "python2"
  },
  "language_info": {
   "codemirror_mode": {
    "name": "ipython",
    "version": 2
   },
   "file_extension": ".py",
   "mimetype": "text/x-python",
   "name": "python",
   "nbconvert_exporter": "python",
   "pygments_lexer": "ipython2",
   "version": "2.7.15+"
  }
 },
 "nbformat": 4,
 "nbformat_minor": 2
}
