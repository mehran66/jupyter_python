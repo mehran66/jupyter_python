{
 "cells": [
  {
   "cell_type": "code",
   "execution_count": 1,
   "metadata": {},
   "outputs": [],
   "source": [
    "import matplotlib.pyplot as plt\n",
    "%matplotlib inline\n",
    "\n",
    "import numpy as np\n",
    "import fiona\n",
    "\n",
    "from matplotlib.patches import Polygon\n",
    "from shapely.geometry import shape, box\n",
    "from shapely.ops import cascaded_union\n",
    "\n",
    "## Fiona, IPython Notebook interaction\n",
    "##  Live 8.5  *  darkblue-b\n",
    "##"
   ]
  },
  {
   "cell_type": "markdown",
   "metadata": {},
   "source": [
    "Terminal Commands\n",
    "----------------------\n",
    "``Shell script can be executed with results stored into python variables``\n"
   ]
  },
  {
   "cell_type": "code",
   "execution_count": 2,
   "metadata": {},
   "outputs": [],
   "source": [
    "shps = !ls /home/user/data/north_carolina/shape/*shp"
   ]
  },
  {
   "cell_type": "markdown",
   "metadata": {},
   "source": [
    "Task: quickly examine the bounding areas of a directory of shapefiles\n",
    "------------------------------------------------------------------\n",
    "* use ``fiona.open()`` to read data files on disk\n",
    "* save the filename and bounding box into a python ``dict``\n",
    "\n",
    ".\n"
   ]
  },
  {
   "cell_type": "code",
   "execution_count": 3,
   "metadata": {},
   "outputs": [],
   "source": [
    "td = {}\n",
    "\n",
    "for shp in shps:\n",
    "    with fiona.open( shp, 'r') as inp:\n",
    "        td[ inp.name ] = inp.bounds\n",
    "\n",
    "## Fiona inp.bounds => ( lower_lng, lower_lat, upper_lng, upper_lat)\n"
   ]
  },
  {
   "cell_type": "code",
   "execution_count": 4,
   "metadata": {},
   "outputs": [
    {
     "name": "stdout",
     "output_type": "stream",
     "text": [
      "Found BBOXs:  44\n"
     ]
    }
   ],
   "source": [
    "## Create shapely geometry from the coords\n",
    "## shapely/geometry/geo.py\n",
    "##   box(minx, miny, maxx, maxy, ccw=True)\n",
    "\n",
    "nboxes = []\n",
    "for k,v in iter(td.iteritems()):\n",
    "    nboxes.append( box( v[0], v[1], v[2], v[3]) )\n",
    "\n",
    "print 'Found BBOXs: ',len(nboxes)"
   ]
  },
  {
   "cell_type": "code",
   "execution_count": 5,
   "metadata": {},
   "outputs": [
    {
     "data": {
      "text/plain": [
       "(121862.14889275003, -15865.3468644768, 962679.9593500504, 407620.5610747712)"
      ]
     },
     "execution_count": 5,
     "metadata": {},
     "output_type": "execute_result"
    }
   ],
   "source": [
    "## create a single cascaded UNION too\n",
    "dst_poly = cascaded_union(nboxes)\n",
    "dst_poly.bounds"
   ]
  },
  {
   "cell_type": "code",
   "execution_count": 6,
   "metadata": {},
   "outputs": [
    {
     "data": {
      "image/png": "[encoded data removed]",
      "text/plain": [
       "<matplotlib.figure.Figure at 0x7f4113dd0350>"
      ]
     },
     "metadata": {},
     "output_type": "display_data"
    }
   ],
   "source": [
    "## Draw every BBOX for all files, transparently\n",
    "## use matplotlib.Polygon to draw; let autoscale calculate the area\n",
    "\n",
    "fig, ax = plt.subplots(figsize=(12,12))\n",
    "for polygon in nboxes:\n",
    "    mpl_poly = Polygon(np.array(polygon.exterior), facecolor=\"y\", alpha=0.02)\n",
    "    ax.add_patch(mpl_poly)\n",
    "\n",
    "## Indicate the exterior of the study area with a heavy line\n",
    "ax.add_patch( Polygon(np.array(dst_poly.exterior), fill=False, lw=4, ec=\"b\", alpha=0.9) )\n",
    "\n",
    "ax.relim()\n",
    "ax.autoscale()"
   ]
  },
  {
   "cell_type": "code",
   "execution_count": null,
   "metadata": {},
   "outputs": [],
   "source": []
  }
 ],
 "metadata": {
  "kernelspec": {
   "display_name": "Python 2",
   "language": "python",
   "name": "python2"
  },
  "language_info": {
   "codemirror_mode": {
    "name": "ipython",
    "version": 2
   },
   "file_extension": ".py",
   "mimetype": "text/x-python",
   "name": "python",
   "nbconvert_exporter": "python",
   "pygments_lexer": "ipython2",
   "version": "2.7.15+"
  }
 },
 "nbformat": 4,
 "nbformat_minor": 1
}
