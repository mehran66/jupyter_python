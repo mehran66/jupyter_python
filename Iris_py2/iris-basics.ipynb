{
 "cells": [
  {
   "cell_type": "code",
   "execution_count": null,
   "metadata": {},
   "outputs": [],
   "source": [
    "import matplotlib.pyplot as plt\n",
    "%matplotlib inline\n",
    "\n",
    "import numpy as np\n",
    "import cartopy.crs as ccrs\n",
    "\n",
    "import iris\n",
    "import iris.coord_systems\n",
    "import iris.cube\n",
    "\n",
    "import iris.plot as iplt"
   ]
  },
  {
   "cell_type": "markdown",
   "metadata": {},
   "source": [
    "### http://scitools.org.uk/iris/docs/v1.9.0/html/gallery.html"
   ]
  },
  {
   "cell_type": "code",
   "execution_count": null,
   "metadata": {},
   "outputs": [],
   "source": [
    "cube_path = 'sample_data/rotated_pole.nc'\n",
    "cube = iris.load_cube(cube_path)\n",
    "\n",
    "cube.coord('grid_latitude').guess_bounds()\n",
    "cube.coord('grid_longitude').guess_bounds()"
   ]
  },
  {
   "cell_type": "code",
   "execution_count": null,
   "metadata": {},
   "outputs": [],
   "source": [
    "print cube.summary()"
   ]
  },
  {
   "cell_type": "code",
   "execution_count": null,
   "metadata": {},
   "outputs": [],
   "source": [
    "## Basic Plots\n",
    "iplt.contourf(cube)"
   ]
  },
  {
   "cell_type": "code",
   "execution_count": null,
   "metadata": {},
   "outputs": [],
   "source": [
    "iplt.pcolor(cube)"
   ]
  },
  {
   "cell_type": "code",
   "execution_count": null,
   "metadata": {},
   "outputs": [],
   "source": [
    "## subplots\n",
    "\n",
    "plt.subplot(221)\n",
    "plt.title('Default')\n",
    "iplt.contourf(cube)\n",
    "plt.gca().coastlines()\n",
    "\n",
    "# Second sub-plot\n",
    "plt.subplot(222, projection=ccrs.Mollweide(central_longitude=120))\n",
    "plt.title('Molleweide')\n",
    "iplt.contourf(cube)\n",
    "plt.gca().coastlines()\n",
    "\n",
    "# Third sub-plot (the projection part is redundant, but a useful\n",
    "# test none-the-less)\n",
    "ax = plt.subplot(223, projection=iplt.default_projection(cube))\n",
    "plt.title('Native')\n",
    "iplt.contour(cube)\n",
    "ax.coastlines()\n",
    "\n",
    "# Fourth sub-plot\n",
    "ax = plt.subplot(2, 2, 4, projection=ccrs.PlateCarree())\n",
    "plt.title('PlateCarree')\n",
    "iplt.contourf(cube)\n",
    "ax.coastlines()\n"
   ]
  },
  {
   "cell_type": "code",
   "execution_count": null,
   "metadata": {},
   "outputs": [],
   "source": [
    "plt.axes(projection=ccrs.PlateCarree(central_longitude=40))\n",
    "plt.gca().coastlines()\n",
    "iplt.pcolormesh(cube)"
   ]
  },
  {
   "cell_type": "code",
   "execution_count": null,
   "metadata": {},
   "outputs": [],
   "source": [
    "iplt.outline(cube)\n",
    "plt.gca().coastlines()"
   ]
  },
  {
   "cell_type": "code",
   "execution_count": null,
   "metadata": {},
   "outputs": [],
   "source": [
    "iplt.points(cube)\n",
    "plt.gca().coastlines()"
   ]
  },
  {
   "cell_type": "code",
   "execution_count": null,
   "metadata": {},
   "outputs": [],
   "source": []
  }
 ],
 "metadata": {
  "kernelspec": {
   "display_name": "Python 2",
   "language": "python",
   "name": "python2"
  },
  "language_info": {
   "codemirror_mode": {
    "name": "ipython",
    "version": 2
   },
   "file_extension": ".py",
   "mimetype": "text/x-python",
   "name": "python",
   "nbconvert_exporter": "python",
   "pygments_lexer": "ipython2",
   "version": "2.7.15+"
  }
 },
 "nbformat": 4,
 "nbformat_minor": 1
}
