{
 "cells": [
  {
   "cell_type": "markdown",
   "metadata": {},
   "source": [
    "Fitting a polynomial\n",
    "====================\n",
    "\n",
    "This example demonstrates computing a polynomial fit to 1D data from an Iris\n",
    "cube, adding the fit to the cube's metadata, and plotting both the 1D data and\n",
    "the fit.\n",
    "\n",
    "### http://scitools.org.uk/iris/docs/v1.9.0/html/gallery.html"
   ]
  },
  {
   "cell_type": "code",
   "execution_count": null,
   "metadata": {},
   "outputs": [],
   "source": [
    "import numpy as np\n",
    "\n",
    "import matplotlib.pyplot as plt\n",
    "%matplotlib inline\n",
    "\n",
    "import iris\n",
    "import iris.quickplot as qplt"
   ]
  },
  {
   "cell_type": "code",
   "execution_count": null,
   "metadata": {},
   "outputs": [],
   "source": [
    "\n",
    "def main():\n",
    "    #fname = iris.sample_data_path('A1B_north_america.nc')\n",
    "    fname = 'sample_data/A1B_north_america.nc'\n",
    "    cube = iris.load_cube(fname)\n",
    "\n",
    "    # Extract a single time series at a latitude and longitude point.\n",
    "    location = next(cube.slices(['time']))\n",
    "\n",
    "    # Calculate a polynomial fit to the data at this time series.\n",
    "    x_points = location.coord('time').points\n",
    "    y_points = location.data\n",
    "    degree = 2\n",
    "\n",
    "    p = np.polyfit(x_points, y_points, degree)\n",
    "    y_fitted = np.polyval(p, x_points)\n",
    "\n",
    "    # Add the polynomial fit values to the time series to take\n",
    "    # full advantage of Iris plotting functionality.\n",
    "    long_name = 'degree_{}_polynomial_fit_of_{}'.format(degree, cube.name())\n",
    "    fit = iris.coords.AuxCoord(y_fitted, long_name=long_name,\n",
    "                               units=location.units)\n",
    "    location.add_aux_coord(fit, 0)\n",
    "\n",
    "    qplt.plot(location.coord('time'), location, label='data')\n",
    "    qplt.plot(location.coord('time'),\n",
    "              location.coord(long_name),\n",
    "              'g-', label='polynomial fit')\n",
    "    plt.legend(loc='best')\n",
    "    plt.title('Trend of US air temperature over time')\n",
    "\n",
    "    qplt.show()\n"
   ]
  },
  {
   "cell_type": "code",
   "execution_count": null,
   "metadata": {},
   "outputs": [],
   "source": [
    "main()"
   ]
  },
  {
   "cell_type": "code",
   "execution_count": null,
   "metadata": {},
   "outputs": [],
   "source": []
  }
 ],
 "metadata": {
  "kernelspec": {
   "display_name": "Python 2",
   "language": "python",
   "name": "python2"
  },
  "language_info": {
   "codemirror_mode": {
    "name": "ipython",
    "version": 2
   },
   "file_extension": ".py",
   "mimetype": "text/x-python",
   "name": "python",
   "nbconvert_exporter": "python",
   "pygments_lexer": "ipython2",
   "version": "2.7.15+"
  }
 },
 "nbformat": 4,
 "nbformat_minor": 1
}
