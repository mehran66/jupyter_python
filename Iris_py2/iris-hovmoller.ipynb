{
 "cells": [
  {
   "cell_type": "markdown",
   "metadata": {},
   "source": [
    "Hovmoller diagram of monthly surface temperature\n",
    "================================================\n",
    "\n",
    "This example demonstrates the creation of a Hovmoller diagram with fine control over plot ticks and labels.\n",
    "The data comes from the Met Office OSTIA project and has been pre-processed to calculate the monthly mean sea\n",
    "surface temperature.\n",
    "\n",
    "### http://scitools.org.uk/iris/docs/v1.9.0/html/gallery.html\n"
   ]
  },
  {
   "cell_type": "code",
   "execution_count": null,
   "metadata": {},
   "outputs": [],
   "source": [
    "import matplotlib.dates as mdates\n",
    "import matplotlib.pyplot as plt\n",
    "%matplotlib inline\n",
    "\n",
    "import iris\n",
    "import iris.plot as iplt\n",
    "import iris.quickplot as qplt\n",
    "#import iris.unit"
   ]
  },
  {
   "cell_type": "code",
   "execution_count": null,
   "metadata": {},
   "outputs": [],
   "source": [
    "\n",
    "def main():\n",
    "    #fname = iris.sample_data_path('ostia_monthly.nc')\n",
    "    fname = 'sample_data/ostia_monthly.nc'\n",
    "\n",
    "    # load a single cube of surface temperature between +/- 5 latitude\n",
    "    cube = iris.load_cube(fname, iris.Constraint('surface_temperature', latitude=lambda v: -5 < v < 5))\n",
    "\n",
    "    # Take the mean over latitude\n",
    "    cube = cube.collapsed('latitude', iris.analysis.MEAN)\n",
    "\n",
    "    # Now that we have our data in a nice way, lets create the plot\n",
    "    # contour with 20 levels\n",
    "    qplt.contourf(cube, 20)\n",
    "\n",
    "    # Put a custom label on the y axis\n",
    "    plt.ylabel('Time / years')\n",
    "\n",
    "    # Stop matplotlib providing clever axes range padding\n",
    "    plt.axis('tight')\n",
    "\n",
    "    # As we are plotting annual variability, put years as the y ticks\n",
    "    plt.gca().yaxis.set_major_locator(mdates.YearLocator())\n",
    "\n",
    "    # And format the ticks to just show the year\n",
    "    plt.gca().yaxis.set_major_formatter(mdates.DateFormatter('%Y'))\n",
    "\n",
    "    iplt.show()\n",
    "\n"
   ]
  },
  {
   "cell_type": "code",
   "execution_count": null,
   "metadata": {},
   "outputs": [],
   "source": [
    "main()"
   ]
  },
  {
   "cell_type": "code",
   "execution_count": null,
   "metadata": {},
   "outputs": [],
   "source": []
  }
 ],
 "metadata": {
  "kernelspec": {
   "display_name": "Python 2",
   "language": "python",
   "name": "python2"
  },
  "language_info": {
   "codemirror_mode": {
    "name": "ipython",
    "version": 2
   },
   "file_extension": ".py",
   "mimetype": "text/x-python",
   "name": "python",
   "nbconvert_exporter": "python",
   "pygments_lexer": "ipython2",
   "version": "2.7.15+"
  }
 },
 "nbformat": 4,
 "nbformat_minor": 1
}
