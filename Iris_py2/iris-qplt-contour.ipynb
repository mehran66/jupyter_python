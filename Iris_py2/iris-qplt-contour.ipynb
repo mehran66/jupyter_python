{
 "cells": [
  {
   "cell_type": "code",
   "execution_count": null,
   "metadata": {},
   "outputs": [],
   "source": [
    "import iris\n",
    "import iris.quickplot as qplt\n",
    "\n",
    "import matplotlib.pyplot as plt\n",
    "%matplotlib inline\n",
    "\n",
    "## IRIS Quickplot example -- Contour, fill, pcolormesh\n",
    "##  Live 8.5  *  darkblue-b\n",
    "##"
   ]
  },
  {
   "cell_type": "code",
   "execution_count": null,
   "metadata": {},
   "outputs": [],
   "source": [
    "## demo data of Sea Surface Temperatures as netCDF\n",
    "file_path = '/usr/lib/python2.7/dist-packages/cartopy/data/netcdf/'\n",
    "filename = 'HadISST1_SST_update.nc'\n",
    "cubes = iris.load(file_path+filename)"
   ]
  },
  {
   "cell_type": "code",
   "execution_count": null,
   "metadata": {},
   "outputs": [],
   "source": [
    "## IRIS format - show a text description of the 0th cube\n",
    "\n",
    "print 'Cubes defined: ' + str(len(cubes))\n",
    "print cubes[0]"
   ]
  },
  {
   "cell_type": "code",
   "execution_count": null,
   "metadata": {},
   "outputs": [],
   "source": [
    "## store the 0th time slice of all lat,lon data points\n",
    "sst0 = cubes[0][0,...]"
   ]
  },
  {
   "cell_type": "code",
   "execution_count": null,
   "metadata": {},
   "outputs": [],
   "source": [
    "##  IRIS Quickplot contour\n",
    "##     http://scitools.org.uk/iris/docs/v1.6/iris/iris/quickplot.html#iris.quickplot.contour\n",
    "contour = qplt.contour(sst0)\n",
    "\n",
    "# Add coastlines to the map created by contour.\n",
    "plt.gca().coastlines()\n",
    "\n",
    "# Add contour labels based on the contour we have just created.\n",
    "plt.clabel(contour)\n",
    "\n",
    "plt.show()"
   ]
  },
  {
   "cell_type": "code",
   "execution_count": null,
   "metadata": {},
   "outputs": [],
   "source": [
    "## Filled polygons, values legend, continental interior legend\n",
    "##  http://scitools.org.uk/iris/docs/v1.6/iris/iris/quickplot.html#iris.quickplot.contour\n",
    "\n",
    "qplt.contourf(sst0)\n",
    "plt.gca().stock_img()\n",
    "plt.gca().coastlines()"
   ]
  },
  {
   "cell_type": "code",
   "execution_count": null,
   "metadata": {},
   "outputs": [],
   "source": [
    "## Pseudocolor Mesh\n",
    "##  http://scitools.org.uk/iris/docs/v1.6/iris/iris/quickplot.html#iris.quickplot.pcolormesh\n",
    "\n",
    "qplt.pcolormesh(sst0)\n",
    "plt.gca().stock_img()\n",
    "plt.gca().coastlines()"
   ]
  },
  {
   "cell_type": "code",
   "execution_count": null,
   "metadata": {},
   "outputs": [],
   "source": []
  }
 ],
 "metadata": {
  "kernelspec": {
   "display_name": "Python 2",
   "language": "python",
   "name": "python2"
  },
  "language_info": {
   "codemirror_mode": {
    "name": "ipython",
    "version": 2
   },
   "file_extension": ".py",
   "mimetype": "text/x-python",
   "name": "python",
   "nbconvert_exporter": "python",
   "pygments_lexer": "ipython2",
   "version": "2.7.15+"
  }
 },
 "nbformat": 4,
 "nbformat_minor": 1
}
