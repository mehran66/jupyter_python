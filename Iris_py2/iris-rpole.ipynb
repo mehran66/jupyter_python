{
 "cells": [
  {
   "cell_type": "markdown",
   "metadata": {},
   "source": [
    "Rotated pole mapping\n",
    "=====================\n",
    "\n",
    "This example uses several visualisation methods to achieve an array of\n",
    "differing images, including:\n",
    "\n",
    " * Visualisation of point based data\n",
    " * Contouring of point based data\n",
    " * Block plot of contiguous bounded data\n",
    " * Non native projection and a Natural Earth shaded relief image underlay\n",
    "\n",
    "\n",
    "### http://scitools.org.uk/iris/docs/v1.9.0/html/gallery.html"
   ]
  },
  {
   "cell_type": "code",
   "execution_count": null,
   "metadata": {},
   "outputs": [],
   "source": [
    "import matplotlib.pyplot as plt\n",
    "%matplotlib inline\n",
    "\n",
    "import cartopy.crs as ccrs\n",
    "\n",
    "import iris\n",
    "import iris.plot as iplt\n",
    "import iris.quickplot as qplt\n",
    "import iris.analysis.cartography"
   ]
  },
  {
   "cell_type": "code",
   "execution_count": null,
   "metadata": {},
   "outputs": [],
   "source": [
    "\n",
    "def main():\n",
    "    #fname = iris.sample_data_path('rotated_pole.nc')\n",
    "    fname = 'sample_data/rotated_pole.nc'\n",
    "    air_pressure = iris.load_cube(fname)\n",
    "\n",
    "    # Plot #1: Point plot showing data values & a colorbar\n",
    "    plt.figure()\n",
    "    points = qplt.points(air_pressure, c=air_pressure.data)\n",
    "    cb = plt.colorbar(points, orientation='horizontal')\n",
    "    cb.set_label(air_pressure.units)\n",
    "    plt.gca().coastlines()\n",
    "    iplt.show()\n",
    "\n",
    "    # Plot #2: Contourf of the point based data\n",
    "    plt.figure()\n",
    "    qplt.contourf(air_pressure, 15)\n",
    "    plt.gca().coastlines()\n",
    "    iplt.show()\n",
    "\n",
    "    # Plot #3: Contourf overlayed by coloured point data\n",
    "    plt.figure()\n",
    "    qplt.contourf(air_pressure)\n",
    "    iplt.points(air_pressure, c=air_pressure.data)\n",
    "    plt.gca().coastlines()\n",
    "    iplt.show()\n",
    "\n",
    "    # For the purposes of this example, add some bounds to the latitude\n",
    "    # and longitude\n",
    "    air_pressure.coord('grid_latitude').guess_bounds()\n",
    "    air_pressure.coord('grid_longitude').guess_bounds()\n",
    "\n",
    "    # Plot #4: Block plot\n",
    "    plt.figure()\n",
    "    plt.axes(projection=ccrs.PlateCarree())\n",
    "    iplt.pcolormesh(air_pressure)\n",
    "    plt.gca().stock_img()\n",
    "    plt.gca().coastlines()\n",
    "    iplt.show()\n"
   ]
  },
  {
   "cell_type": "code",
   "execution_count": null,
   "metadata": {},
   "outputs": [],
   "source": [
    "main()"
   ]
  },
  {
   "cell_type": "code",
   "execution_count": null,
   "metadata": {},
   "outputs": [],
   "source": []
  }
 ],
 "metadata": {
  "kernelspec": {
   "display_name": "Python 2",
   "language": "python",
   "name": "python2"
  },
  "language_info": {
   "codemirror_mode": {
    "name": "ipython",
    "version": 2
   },
   "file_extension": ".py",
   "mimetype": "text/x-python",
   "name": "python",
   "nbconvert_exporter": "python",
   "pygments_lexer": "ipython2",
   "version": "2.7.15+"
  }
 },
 "nbformat": 4,
 "nbformat_minor": 1
}
