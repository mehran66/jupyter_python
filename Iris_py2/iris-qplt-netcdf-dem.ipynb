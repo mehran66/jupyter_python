{
 "cells": [
  {
   "cell_type": "code",
   "execution_count": null,
   "metadata": {},
   "outputs": [],
   "source": [
    "import matplotlib.pyplot as plt\n",
    "%matplotlib inline\n",
    "\n",
    "import iris\n",
    "import iris.plot as iplt\n",
    "import iris.quickplot as qplt\n",
    "\n",
    "## netCDF via IRIS example\n",
    "##  Live 8.5  *  darkblue-b\n",
    "##"
   ]
  },
  {
   "cell_type": "code",
   "execution_count": null,
   "metadata": {},
   "outputs": [],
   "source": [
    "## Convert a DEM GeoTIFF to netCDF with gdal\n",
    "!rm 'sample_data/SanMateo_CA.cf'\n",
    "!gdal_translate -of netcdf sample_data/SanMateo_CA.tif sample_data/SanMateo_CA.cf\n",
    "\n",
    "## previously extracted from a large USGS DEM via\n",
    "##   gdal_translate -projwin -122.44 37.7 -122.2 37.4 -of GTiff imgn38w123_1.img  SanMateo_CA.tif"
   ]
  },
  {
   "cell_type": "code",
   "execution_count": null,
   "metadata": {},
   "outputs": [],
   "source": [
    "## Open the netCDF with IRIS\n",
    "res = iris.load('sample_data/SanMateo_CA.cf')\n",
    "\n",
    "print ' TYPE: ', type(res)\n",
    "print 'CUBES: ', res\n",
    "print ' REPR: ', res[0]"
   ]
  },
  {
   "cell_type": "code",
   "execution_count": null,
   "metadata": {},
   "outputs": [],
   "source": [
    "## color visualization of elevation data using IRIS Quickplot\n",
    "iplt.pcolormesh(res[0], cmap=plt.get_cmap('gist_earth'))\n",
    "iplt.show()"
   ]
  },
  {
   "cell_type": "code",
   "execution_count": null,
   "metadata": {},
   "outputs": [],
   "source": [
    "contour = qplt.contour(res[0])\n",
    "\n",
    "## use the center point for a quick demo\n",
    "lon = -122.3200000\n",
    "lat =   37.5500000\n",
    "\n",
    "plt.scatter(lon, lat, marker=(5, 1), color='red', s=200)\n",
    "plt.title(\"Welcome to San Mateo\")\n",
    "\n",
    "plt.show()"
   ]
  },
  {
   "cell_type": "code",
   "execution_count": null,
   "metadata": {},
   "outputs": [],
   "source": []
  }
 ],
 "metadata": {
  "kernelspec": {
   "display_name": "Python 2",
   "language": "python",
   "name": "python2"
  },
  "language_info": {
   "codemirror_mode": {
    "name": "ipython",
    "version": 2
   },
   "file_extension": ".py",
   "mimetype": "text/x-python",
   "name": "python",
   "nbconvert_exporter": "python",
   "pygments_lexer": "ipython2",
   "version": "2.7.15+"
  }
 },
 "nbformat": 4,
 "nbformat_minor": 1
}
