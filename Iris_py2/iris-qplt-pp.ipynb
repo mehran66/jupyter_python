{
 "cells": [
  {
   "cell_type": "markdown",
   "metadata": {},
   "source": [
    "Quickplot of a 2d cube on a map\n",
    "===============================\n",
    "\n",
    "This example demonstrates a contour plot of global air temperature.\n",
    "The plot title and the labels for the axes are automatically derived from the metadata.\n",
    "(added example of to_xml -ed)\n",
    "\n",
    "\n",
    "### http://scitools.org.uk/iris/docs/v1.9.0/html/gallery.html"
   ]
  },
  {
   "cell_type": "code",
   "execution_count": null,
   "metadata": {},
   "outputs": [],
   "source": [
    "import matplotlib.pyplot as plt\n",
    "%matplotlib inline\n",
    "\n",
    "import cartopy.crs as ccrs\n",
    "\n",
    "import iris\n",
    "import iris.plot as iplt\n",
    "import iris.quickplot as qplt"
   ]
  },
  {
   "cell_type": "code",
   "execution_count": null,
   "metadata": {},
   "outputs": [],
   "source": [
    "\n",
    "def main():\n",
    "    #fname = iris.sample_data_path('air_temp.pp')\n",
    "    fname = 'sample_data/air_temp.pp'\n",
    "    temperature = iris.load_cube(fname)\n",
    "\n",
    "    # Plot #1: contourf with axes longitude from -180 to 180\n",
    "    fig = plt.figure(figsize=(12, 5))\n",
    "    plt.subplot(121)\n",
    "    qplt.contourf(temperature, 15)\n",
    "    plt.gca().coastlines()\n",
    "\n",
    "    # Plot #2: contourf with axes longitude from 0 to 360\n",
    "    proj = ccrs.PlateCarree(central_longitude=-180.0)\n",
    "    ax = plt.subplot(122, projection=proj)\n",
    "    qplt.contourf(temperature, 15)\n",
    "    plt.gca().coastlines()\n",
    "    iplt.show()\n"
   ]
  },
  {
   "cell_type": "code",
   "execution_count": null,
   "metadata": {},
   "outputs": [],
   "source": [
    "main()\n"
   ]
  },
  {
   "cell_type": "code",
   "execution_count": null,
   "metadata": {},
   "outputs": [],
   "source": [
    "#fname = iris.sample_data_path('air_temp.pp')\n",
    "fname = 'sample_data/air_temp.pp'\n",
    "t0 = iris.load_cube(fname)"
   ]
  },
  {
   "cell_type": "code",
   "execution_count": null,
   "metadata": {},
   "outputs": [],
   "source": [
    "whos"
   ]
  },
  {
   "cell_type": "code",
   "execution_count": null,
   "metadata": {},
   "outputs": [],
   "source": []
  }
 ],
 "metadata": {
  "kernelspec": {
   "display_name": "Python 2",
   "language": "python",
   "name": "python2"
  },
  "language_info": {
   "codemirror_mode": {
    "name": "ipython",
    "version": 2
   },
   "file_extension": ".py",
   "mimetype": "text/x-python",
   "name": "python",
   "nbconvert_exporter": "python",
   "pygments_lexer": "ipython2",
   "version": "2.7.15+"
  }
 },
 "nbformat": 4,
 "nbformat_minor": 1
}
