{
 "cells": [
  {
   "cell_type": "markdown",
   "metadata": {},
   "source": [
    "Ionosphere space weather\n",
    "========================\n",
    "\n",
    "This space weather example plots a filled contour of rotated pole point\n",
    "data with a shaded relief image underlay. The plot shows aggregated\n",
    "vertical electron content in the ionosphere.\n",
    "\n",
    "The plot exhibits an interesting outline effect due to excluding data\n",
    "values below a certain threshold.\n",
    "\n",
    "### http://scitools.org.uk/iris/docs/v1.9.0/html/gallery.html"
   ]
  },
  {
   "cell_type": "code",
   "execution_count": null,
   "metadata": {},
   "outputs": [],
   "source": [
    "import matplotlib.pyplot as plt\n",
    "%matplotlib inline\n",
    "\n",
    "import numpy.ma as ma\n",
    "\n",
    "import iris\n",
    "import iris.plot as iplt\n",
    "import iris.quickplot as qplt"
   ]
  },
  {
   "cell_type": "code",
   "execution_count": null,
   "metadata": {},
   "outputs": [],
   "source": [
    "\n",
    "\n",
    "def main():\n",
    "    # Load the \"total electron content\" cube.\n",
    "    #filename = iris.sample_data_path('space_weather.nc')\n",
    "    filename = 'sample_data/space_weather.nc'\n",
    "    cube = iris.load_cube(filename, 'total electron content')\n",
    "\n",
    "    # Explicitly mask negative electron content.\n",
    "    cube.data = ma.masked_less(cube.data, 0)\n",
    "\n",
    "    # Plot the cube using one hundred colour levels.\n",
    "    qplt.contourf(cube, 100)\n",
    "    plt.title('Total Electron Content')\n",
    "    plt.xlabel('longitude / degrees')\n",
    "    plt.ylabel('latitude / degrees')\n",
    "    plt.gca().stock_img()\n",
    "    plt.gca().coastlines()\n",
    "    iplt.show()\n"
   ]
  },
  {
   "cell_type": "code",
   "execution_count": null,
   "metadata": {},
   "outputs": [],
   "source": [
    "main()"
   ]
  },
  {
   "cell_type": "code",
   "execution_count": null,
   "metadata": {},
   "outputs": [],
   "source": []
  }
 ],
 "metadata": {
  "kernelspec": {
   "display_name": "Python 2",
   "language": "python",
   "name": "python2"
  },
  "language_info": {
   "codemirror_mode": {
    "name": "ipython",
    "version": 2
   },
   "file_extension": ".py",
   "mimetype": "text/x-python",
   "name": "python",
   "nbconvert_exporter": "python",
   "pygments_lexer": "ipython2",
   "version": "2.7.15+"
  }
 },
 "nbformat": 4,
 "nbformat_minor": 1
}
