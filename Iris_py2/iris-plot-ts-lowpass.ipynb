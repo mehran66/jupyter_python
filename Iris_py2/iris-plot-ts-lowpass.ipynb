{
 "cells": [
  {
   "cell_type": "markdown",
   "metadata": {},
   "source": [
    "Applying a filter to a time-series\n",
    "==================================\n",
    "\n",
    "This example demonstrates low pass filtering a time-series by applying a\n",
    "weighted running mean over the time dimension.\n",
    "\n",
    "The time-series used is the Darwin-only Southern Oscillation index (SOI),\n",
    "which is filtered using two different Lanczos filters, one to filter out\n",
    "time-scales of less than two years and one to filter out time-scales of\n",
    "less than 7 years.\n",
    "\n",
    "References\n",
    "----------\n",
    "\n",
    "    Duchon C. E. (1979) Lanczos Filtering in One and Two Dimensions.\n",
    "    Journal of Applied Meteorology, Vol 18, pp 1016-1022.\n",
    "\n",
    "    Trenberth K. E. (1984) Signal Versus Noise in the Southern Oscillation.\n",
    "    Monthly Weather Review, Vol 112, pp 326-332\n"
   ]
  },
  {
   "cell_type": "code",
   "execution_count": null,
   "metadata": {},
   "outputs": [],
   "source": [
    "import numpy as np\n",
    "import matplotlib.pyplot as plt\n",
    "import iris\n",
    "import iris.plot as iplt"
   ]
  },
  {
   "cell_type": "code",
   "execution_count": null,
   "metadata": {},
   "outputs": [],
   "source": [
    "def low_pass_weights(window, cutoff):\n",
    "    \"\"\"\n",
    "    Calculate weights for a low pass Lanczos filter.\n",
    "\n",
    "    Args:\n",
    "      window: int\n",
    "        The length of the filter window.\n",
    "\n",
    "      cutoff: float\n",
    "        The cutoff frequency in inverse time steps.\n",
    "\n",
    "    \"\"\"\n",
    "    order = ((window - 1) // 2) + 1\n",
    "    nwts = 2 * order + 1\n",
    "    w = np.zeros([nwts])\n",
    "    n = nwts // 2\n",
    "    w[n] = 2 * cutoff\n",
    "    k = np.arange(1., n)\n",
    "    sigma = np.sin(np.pi * k / n) * n / (np.pi * k)\n",
    "    firstfactor = np.sin(2. * np.pi * cutoff * k) / (np.pi * k)\n",
    "    w[n-1:0:-1] = firstfactor * sigma\n",
    "    w[n+1:-1] = firstfactor * sigma\n",
    "    return w[1:-1]\n",
    "\n",
    "\n",
    "def main():\n",
    "    # Load the monthly-valued Southern Oscillation Index (SOI) time-series.\n",
    "    fname = 'sample_data/SOI_Darwin.nc'\n",
    "    soi = iris.load_cube(fname)\n",
    "\n",
    "    # Window length for filters.\n",
    "    window = 121\n",
    "\n",
    "    # Construct 2-year (24-month) and 7-year (84-month) low pass filters\n",
    "    # for the SOI data which is monthly.\n",
    "    wgts24 = low_pass_weights(window, 1. / 24.)\n",
    "    wgts84 = low_pass_weights(window, 1. / 84.)\n",
    "\n",
    "    # Apply each filter using the rolling_window method used with the weights\n",
    "    # keyword argument. A weighted sum is required because the magnitude of\n",
    "    # the weights are just as important as their relative sizes.\n",
    "    soi24 = soi.rolling_window('time',\n",
    "                               iris.analysis.SUM,\n",
    "                               len(wgts24),\n",
    "                               weights=wgts24)\n",
    "    soi84 = soi.rolling_window('time',\n",
    "                               iris.analysis.SUM,\n",
    "                               len(wgts84),\n",
    "                               weights=wgts84)\n",
    "\n",
    "        # Plot the SOI time series and both filtered versions.\n",
    "    plt.figure(figsize=(9, 4))\n",
    "    iplt.plot(soi, color='0.7', linewidth=1., linestyle='-',\n",
    "              alpha=1., label='no filter')\n",
    "    iplt.plot(soi24, color='b', linewidth=2., linestyle='-',\n",
    "              alpha=.7, label='2-year filter')\n",
    "    iplt.plot(soi84, color='r', linewidth=2., linestyle='-',\n",
    "              alpha=.7, label='7-year filter')\n",
    "    plt.ylim([-4, 4])\n",
    "    plt.title('Southern Oscillation Index (Darwin Only)')\n",
    "    plt.xlabel('Time')\n",
    "    plt.ylabel('SOI')\n",
    "    plt.legend(fontsize=10)\n",
    "    iplt.show()\n"
   ]
  },
  {
   "cell_type": "code",
   "execution_count": null,
   "metadata": {},
   "outputs": [],
   "source": [
    "main()"
   ]
  },
  {
   "cell_type": "code",
   "execution_count": null,
   "metadata": {},
   "outputs": [],
   "source": []
  }
 ],
 "metadata": {
  "kernelspec": {
   "display_name": "Python 2",
   "language": "python",
   "name": "python2"
  },
  "language_info": {
   "codemirror_mode": {
    "name": "ipython",
    "version": 2
   },
   "file_extension": ".py",
   "mimetype": "text/x-python",
   "name": "python",
   "nbconvert_exporter": "python",
   "pygments_lexer": "ipython2",
   "version": "2.7.15+"
  }
 },
 "nbformat": 4,
 "nbformat_minor": 2
}
