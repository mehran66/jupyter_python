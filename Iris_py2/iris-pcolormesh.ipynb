{
 "cells": [
  {
   "cell_type": "markdown",
   "metadata": {
    "collapsed": true
   },
   "source": [
    "Colouring anomaly data with logarithmic scaling\n",
    "===============================================\n",
    "\n",
    "In this example, we need to plot anomaly data where the values have a\n",
    "\"logarithmic\" significance  -- i.e. we want to give approximately equal ranges\n",
    "of colour between data values of, say, 1 and 10 as between 10 and 100.\n",
    "\n",
    "As the data range also contains zero, that obviously does not suit a simple\n",
    "logarithmic interpretation.  However, values of less than a certain absolute\n",
    "magnitude may be considered \"not significant\", so we put these into a separate\n",
    "\"zero band\" which is plotted in white.\n",
    "\n",
    "To do this, we create a custom value mapping function (normalization) using\n",
    "the matplotlib Norm class `matplotlib.colours.SymLogNorm\n",
    "<http://matplotlib.org/api/colors_api.html#matplotlib.colors.SymLogNorm>`_.\n",
    "We use this to make a cell-filled pseudocolour plot with a colorbar.\n",
    "\n",
    "NOTE: By \"pseudocolour\", we mean that each data point is drawn as a \"cell\"\n",
    "region on the plot, coloured according to its data value.\n",
    "This is provided in Iris by the functions :meth:`iris.plot.pcolor` and\n",
    ":meth:`iris.plot.pcolormesh`, which call the underlying matplotlib\n",
    "functions of the same names (i.e. `matplotlib.pyplot.pcolor\n",
    "<http://matplotlib.org/api/pyplot_api.html#matplotlib.pyplot.pcolor>`_\n",
    "and  `matplotlib.pyplot.pcolormesh\n",
    "<http://matplotlib.org/api/pyplot_api.html#matplotlib.pyplot.pcolormesh>`_).\n",
    "See also: http://en.wikipedia.org/wiki/False_color#Pseudocolor.\n",
    "\n",
    "### http://scitools.org.uk/iris/docs/v1.9.0/html/gallery.html"
   ]
  },
  {
   "cell_type": "code",
   "execution_count": null,
   "metadata": {},
   "outputs": [],
   "source": [
    "import matplotlib.pyplot as plt\n",
    "import matplotlib.colors as mcols\n",
    "%matplotlib inline\n",
    "\n",
    "import cartopy.crs as ccrs\n",
    "\n",
    "import iris\n",
    "import iris.coord_categorisation\n",
    "import iris.plot as iplt"
   ]
  },
  {
   "cell_type": "code",
   "execution_count": null,
   "metadata": {},
   "outputs": [],
   "source": [
    "def main():\n",
    "    # Load a sample air temperatures sequence.\n",
    "    #file_path = iris.sample_data_path('E1_north_america.nc')\n",
    "    file_path = 'sample_data/E1_north_america.nc'\n",
    "    temperatures = iris.load_cube(file_path)\n",
    "\n",
    "    # Create a year-number coordinate from the time information.\n",
    "    iris.coord_categorisation.add_year(temperatures, 'time')\n",
    "\n",
    "    # Create a sample anomaly field for one chosen year, by extracting that\n",
    "    # year and subtracting the time mean.\n",
    "    sample_year = 1989\n",
    "    year_temperature = temperatures.extract(iris.Constraint(year=sample_year))\n",
    "    time_mean = temperatures.collapsed('time', iris.analysis.MEAN)\n",
    "    anomaly = year_temperature - time_mean\n",
    "\n",
    "    # Construct a plot title string explaining which years are involved.\n",
    "    years = temperatures.coord('year').points\n",
    "    plot_title = 'Temperature anomaly'\n",
    "    plot_title += '\\n{} differences from {}-{} average.'.format(\n",
    "        sample_year, years[0], years[-1])\n",
    "\n",
    "    # Define scaling levels for the logarithmic colouring.\n",
    "    minimum_log_level = 0.1\n",
    "    maximum_scale_level = 3.0\n",
    "\n",
    "    # Use a standard colour map which varies blue-white-red.\n",
    "    # For suitable options, see the 'Diverging colormaps' section in:\n",
    "    # http://matplotlib.org/examples/color/colormaps_reference.html\n",
    "    anom_cmap = 'bwr'\n",
    "\n",
    "    # Create a 'logarithmic' data normalization.\n",
    "    anom_norm = mcols.SymLogNorm(linthresh=minimum_log_level,\n",
    "                                 linscale=0,\n",
    "                                 vmin=-maximum_scale_level,\n",
    "                                 vmax=maximum_scale_level)\n",
    "    # Setting \"linthresh=minimum_log_level\" makes its non-logarithmic\n",
    "    # data range equal to our 'zero band'.\n",
    "    # Setting \"linscale=0\" maps the whole zero band to the middle colour value\n",
    "    # (i.e. 0.5), which is the neutral point of a \"diverging\" style colormap.\n",
    "\n",
    "    # Create an Axes, specifying the map projection.\n",
    "    plt.axes(projection=ccrs.LambertConformal())\n",
    "\n",
    "    # Make a pseudocolour plot using this colour scheme.\n",
    "    mesh = iplt.pcolormesh(anomaly, cmap=anom_cmap, norm=anom_norm)\n",
    "\n",
    "    # Add a colourbar, with extensions to show handling of out-of-range values.\n",
    "    bar = plt.colorbar(mesh, orientation='horizontal', extend='both')\n",
    "\n",
    "    # Set some suitable fixed \"logarithmic\" colourbar tick positions.\n",
    "    tick_levels = [-3, -1, -0.3, 0.0, 0.3, 1, 3]\n",
    "    bar.set_ticks(tick_levels)\n",
    "\n",
    "    # Modify the tick labels so that the centre one shows \"+/-<minumum-level>\".\n",
    "    tick_levels[3] = r'$\\pm${:g}'.format(minimum_log_level)\n",
    "    bar.set_ticklabels(tick_levels)\n",
    "\n",
    "    # Label the colourbar to show the units.\n",
    "    bar.set_label('[{}, log scale]'.format(anomaly.units))\n",
    "\n",
    "    # Add coastlines and a title.\n",
    "    plt.gca().coastlines()\n",
    "    plt.title(plot_title)\n",
    "\n",
    "    # Display the result.\n",
    "    iplt.show()\n"
   ]
  },
  {
   "cell_type": "code",
   "execution_count": null,
   "metadata": {},
   "outputs": [],
   "source": [
    "main()"
   ]
  },
  {
   "cell_type": "markdown",
   "metadata": {
    "collapsed": true
   },
   "source": []
  }
 ],
 "metadata": {
  "kernelspec": {
   "display_name": "Python 2",
   "language": "python",
   "name": "python2"
  },
  "language_info": {
   "codemirror_mode": {
    "name": "ipython",
    "version": 2
   },
   "file_extension": ".py",
   "mimetype": "text/x-python",
   "name": "python",
   "nbconvert_exporter": "python",
   "pygments_lexer": "ipython2",
   "version": "2.7.15+"
  }
 },
 "nbformat": 4,
 "nbformat_minor": 1
}
