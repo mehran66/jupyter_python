{
 "cells": [
  {
   "cell_type": "markdown",
   "metadata": {},
   "source": [
    "Tri-Polar Grid Projected Plotting\n",
    "=================================\n",
    "\n",
    "This example demonstrates cell plots of data on the semi-structured ORCA2 model\n",
    "grid.\n",
    "\n",
    "First, the data is projected into the PlateCarree coordinate reference system.\n",
    "\n",
    "Second four pcolormesh plots are created from this projected dataset,\n",
    "using different projections for the output image.\n",
    "\n",
    "### http://scitools.org.uk/iris/docs/v1.9.0/html/gallery.html"
   ]
  },
  {
   "cell_type": "code",
   "execution_count": null,
   "metadata": {},
   "outputs": [],
   "source": [
    "import matplotlib.pyplot as plt\n",
    "%matplotlib inline\n",
    "\n",
    "import cartopy.crs as ccrs\n",
    "\n",
    "import iris\n",
    "import iris.analysis.cartography\n",
    "import iris.plot as iplt\n",
    "import iris.quickplot as qplt"
   ]
  },
  {
   "cell_type": "code",
   "execution_count": null,
   "metadata": {},
   "outputs": [],
   "source": [
    "def main():\n",
    "    # Load data\n",
    "    #filepath = iris.sample_data_path('orca2_votemper.nc')\n",
    "    filepath = 'sample_data/orca2_votemper.nc'\n",
    "    cube = iris.load_cube(filepath)\n",
    "\n",
    "    # Choose plot projections\n",
    "    projections = {}\n",
    "    projections['Mollweide'] = ccrs.Mollweide()\n",
    "    projections['PlateCarree'] = ccrs.PlateCarree()\n",
    "    projections['NorthPolarStereo'] = ccrs.NorthPolarStereo()\n",
    "    projections['Orthographic'] = ccrs.Orthographic(central_longitude=-90,\n",
    "                                                    central_latitude=45)\n",
    "\n",
    "    pcarree = projections['PlateCarree']\n",
    "    # Transform cube to target projection\n",
    "    new_cube, extent = iris.analysis.cartography.project(cube, pcarree,\n",
    "                                                         nx=400, ny=200)\n",
    "\n",
    "    # Plot data in each projection\n",
    "    for name in sorted(projections):\n",
    "        fig = plt.figure()\n",
    "        fig.suptitle('ORCA2 Data Projected to {}'.format(name))\n",
    "        # Set up axes and title\n",
    "        ax = plt.subplot(projection=projections[name])\n",
    "        # Set limits\n",
    "        ax.set_global()\n",
    "        # plot with Iris quickplot pcolormesh\n",
    "        qplt.pcolormesh(new_cube)\n",
    "        # Draw coastlines\n",
    "        ax.coastlines()\n",
    "\n",
    "        iplt.show()\n",
    "\n",
    "\n"
   ]
  },
  {
   "cell_type": "code",
   "execution_count": null,
   "metadata": {},
   "outputs": [],
   "source": [
    "main()"
   ]
  },
  {
   "cell_type": "code",
   "execution_count": null,
   "metadata": {},
   "outputs": [],
   "source": []
  }
 ],
 "metadata": {
  "kernelspec": {
   "display_name": "Python 2",
   "language": "python",
   "name": "python2"
  },
  "language_info": {
   "codemirror_mode": {
    "name": "ipython",
    "version": 2
   },
   "file_extension": ".py",
   "mimetype": "text/x-python",
   "name": "python",
   "nbconvert_exporter": "python",
   "pygments_lexer": "ipython2",
   "version": "2.7.15+"
  }
 },
 "nbformat": 4,
 "nbformat_minor": 1
}
