{
 "cells": [
  {
   "cell_type": "markdown",
   "metadata": {},
   "source": [
    "Plotting wind direction using quiver\n",
    "===========================================================\n",
    "\n",
    "This example demonstrates using quiver to plot wind speed contours and wind\n",
    "direction arrows from wind vector component input data. The vector components\n",
    "are co-located in space in this case.\n",
    "\n",
    "For the second plot, the data used for the arrows is normalised to produce\n",
    "arrows with a uniform size on the plot.\n"
   ]
  },
  {
   "cell_type": "code",
   "execution_count": null,
   "metadata": {},
   "outputs": [],
   "source": [
    "import matplotlib.pyplot as plt\n",
    "import numpy as np\n",
    "\n",
    "import iris\n",
    "import iris.coord_categorisation\n",
    "import iris.quickplot as qplt\n",
    "\n",
    "import cartopy\n",
    "import cartopy.feature as cfeat\n",
    "import cartopy.crs as ccrs"
   ]
  },
  {
   "cell_type": "code",
   "execution_count": null,
   "metadata": {},
   "outputs": [],
   "source": [
    "def main():\n",
    "    # Load the u and v components of wind from a pp file\n",
    "    infile = 'sample_data/wind_speed_lake_victoria.pp'\n",
    "\n",
    "    uwind = iris.load_cube(infile, 'x_wind')\n",
    "    vwind = iris.load_cube(infile, 'y_wind')\n",
    "\n",
    "    ulon = uwind.coord('longitude')\n",
    "    vlon = vwind.coord('longitude')\n",
    "\n",
    "    # The longitude points go from 180 to 540, so subtract 360 from them\n",
    "    ulon.points = ulon.points - 360.0\n",
    "    vlon.points = vlon.points - 360.0\n",
    "\n",
    "    # Create a cube containing the wind speed\n",
    "    windspeed = (uwind ** 2 + vwind ** 2) ** 0.5\n",
    "    windspeed.rename('windspeed')\n",
    "\n",
    "    x = ulon.points\n",
    "    y = uwind.coord('latitude').points\n",
    "    u = uwind.data\n",
    "    v = vwind.data\n",
    "\n",
    "        # Set up axes to show the lake\n",
    "    lakes = cfeat.NaturalEarthFeature('physical', 'lakes', '110m',\n",
    "                                      facecolor='none')\n",
    "\n",
    "    plt.figure()\n",
    "    ax = plt.axes(projection=ccrs.PlateCarree())\n",
    "    ax.add_feature(lakes)\n",
    "\n",
    "    # Get the coordinate reference system used by the data\n",
    "    transform = ulon.coord_system.as_cartopy_projection()\n",
    "\n",
    "    # Plot the wind speed as a contour plot\n",
    "    qplt.contourf(windspeed, 20)\n",
    "\n",
    "    # Add arrows to show the wind vectors\n",
    "    plt.quiver(x, y, u, v, pivot='middle', transform=transform)\n",
    "\n",
    "    plt.title(\"Wind speed over Lake Victoria\")\n",
    "    qplt.show()\n",
    "\n",
    "    # Normalise the data for uniform arrow size\n",
    "    u_norm = u / np.sqrt(u ** 2.0 + v ** 2.0)\n",
    "    v_norm = v / np.sqrt(u ** 2.0 + v ** 2.0)\n",
    "\n",
    "    plt.figure()\n",
    "    ax = plt.axes(projection=ccrs.PlateCarree())\n",
    "    ax.add_feature(lakes)\n",
    "\n",
    "    qplt.contourf(windspeed, 20)\n",
    "\n",
    "    plt.quiver(x, y, u_norm, v_norm, pivot='middle', transform=transform)\n",
    "\n",
    "    plt.title(\"Wind speed over Lake Victoria\")\n",
    "    qplt.show()\n"
   ]
  },
  {
   "cell_type": "code",
   "execution_count": null,
   "metadata": {},
   "outputs": [],
   "source": [
    "main()"
   ]
  },
  {
   "cell_type": "code",
   "execution_count": null,
   "metadata": {},
   "outputs": [],
   "source": []
  }
 ],
 "metadata": {
  "kernelspec": {
   "display_name": "Python 2",
   "language": "python",
   "name": "python2"
  },
  "language_info": {
   "codemirror_mode": {
    "name": "ipython",
    "version": 2
   },
   "file_extension": ".py",
   "mimetype": "text/x-python",
   "name": "python",
   "nbconvert_exporter": "python",
   "pygments_lexer": "ipython2",
   "version": "2.7.15+"
  }
 },
 "nbformat": 4,
 "nbformat_minor": 2
}
