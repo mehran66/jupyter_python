{
 "cells": [
  {
   "cell_type": "code",
   "execution_count": null,
   "metadata": {},
   "outputs": [],
   "source": [
    "import os\n",
    "import folium\n",
    "\n",
    "print(folium.__version__)"
   ]
  },
  {
   "cell_type": "code",
   "execution_count": null,
   "metadata": {},
   "outputs": [],
   "source": [
    "\n",
    "m = folium.Map(location=[22.5, -115], zoom_start=4)\n",
    "\n",
    "video = folium.raster_layers.VideoOverlay(\n",
    "    video_url='https://www.mapbox.com/bites/00188/patricia_nasa.webm',\n",
    "    bounds=[[32, -130], [13, -100]],\n",
    "    opacity=0.65,\n",
    "    attr='Video from patricia_nasa',\n",
    "    autoplay=True,\n",
    "    loop=False,\n",
    ")\n",
    "\n",
    "video.add_to(m)\n",
    "\n",
    "#m.save(os.path.join('results', 'VideoOverlayLayer.html'))\n",
    "\n",
    "m"
   ]
  },
  {
   "cell_type": "code",
   "execution_count": null,
   "metadata": {},
   "outputs": [],
   "source": []
  }
 ],
 "metadata": {
  "kernelspec": {
   "display_name": "Python 3",
   "language": "python",
   "name": "python3"
  },
  "language_info": {
   "codemirror_mode": {
    "name": "ipython",
    "version": 3
   },
   "file_extension": ".py",
   "mimetype": "text/x-python",
   "name": "python",
   "nbconvert_exporter": "python",
   "pygments_lexer": "ipython3",
   "version": "3.6.8"
  }
 },
 "nbformat": 4,
 "nbformat_minor": 1
}
