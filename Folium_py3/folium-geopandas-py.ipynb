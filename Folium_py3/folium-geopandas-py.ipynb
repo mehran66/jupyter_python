{
 "cells": [
  {
   "cell_type": "code",
   "execution_count": null,
   "metadata": {},
   "outputs": [],
   "source": [
    "import os\n",
    "import folium\n",
    "\n",
    "print(folium.__version__)"
   ]
  },
  {
   "cell_type": "markdown",
   "metadata": {},
   "source": [
    "# How to draw a GeoPandas.GeoDataFrame into folium\n",
    "\n",
    "GeoPandas is a project to add support for geographic data to [pandas](http://pandas.pydata.org) objects.\n",
    "(See https://github.com/geopandas/geopandas)\n",
    "\n",
    "It provides (among other cool things) a `GeoDataFrame` object that represents a Feature collection.\n",
    "When you have one, you may be willing to use it on a folium map. Here's the simplest way to do so."
   ]
  },
  {
   "cell_type": "markdown",
   "metadata": {},
   "source": [
    "In this example, we'll use the same file as GeoPandas demo ; it's containing\n",
    "[the boroughs of New York City](http://www.nyc.gov/html/dcp/download/bytes/nybb_14aav.zip)."
   ]
  },
  {
   "cell_type": "code",
   "execution_count": null,
   "metadata": {},
   "outputs": [],
   "source": [
    "import geopandas\n",
    "\n",
    "nybb = os.path.join('data', 'nybb.shp')\n",
    "\n",
    "boros = geopandas.GeoDataFrame.from_file(nybb)\n",
    "\n",
    "boros"
   ]
  },
  {
   "cell_type": "markdown",
   "metadata": {},
   "source": [
    "To create a map with these features, simply put them in a `GeoJson`:"
   ]
  },
  {
   "cell_type": "code",
   "execution_count": null,
   "metadata": {},
   "outputs": [],
   "source": [
    "m = folium.Map([40.7, -74], zoom_start=10, tiles='cartodbpositron')\n",
    "\n",
    "folium.GeoJson(boros).add_to(m)\n",
    "\n",
    "#m.save(os.path.join('results', 'geopandas_0.html'))\n",
    "\n",
    "m"
   ]
  },
  {
   "cell_type": "markdown",
   "metadata": {},
   "source": [
    "Quite easy.\n",
    "\n",
    "Well, you can also take advantage of your `GeoDataFrame` structure to set the style of the data. For this, just create a column `style` containing each feature's style in a dictionnary."
   ]
  },
  {
   "cell_type": "code",
   "execution_count": null,
   "metadata": {},
   "outputs": [],
   "source": [
    "boros['style'] = [\n",
    "    {'fillColor': '#ff0000', 'weight': 2, 'color': 'black'},\n",
    "    {'fillColor': '#00ff00', 'weight': 2, 'color': 'black'},\n",
    "    {'fillColor': '#0000ff', 'weight': 2, 'color': 'black'},\n",
    "    {'fillColor': '#ffff00', 'weight': 2, 'color': 'black'},\n",
    "    {'fillColor': '#00ffff', 'weight': 2, 'color': 'black'},\n",
    "]\n",
    "\n",
    "boros"
   ]
  },
  {
   "cell_type": "code",
   "execution_count": null,
   "metadata": {},
   "outputs": [],
   "source": [
    "m = folium.Map([40.7, -74], zoom_start=10, tiles='cartodbpositron')\n",
    "\n",
    "folium.GeoJson(boros).add_to(m)\n",
    "\n",
    "#m.save(os.path.join('results', 'geopandas_1.html'))\n",
    "\n",
    "m"
   ]
  },
  {
   "cell_type": "markdown",
   "metadata": {},
   "source": [
    "Folium should work with any object that implements the `__geo_interface__` but be aware that sometimes you may need to convert your data to `epsg='4326'` before sending it to `folium`."
   ]
  },
  {
   "cell_type": "code",
   "execution_count": null,
   "metadata": {},
   "outputs": [],
   "source": [
    "import fiona\n",
    "import shapely\n",
    "\n",
    "\n",
    "fname = os.path.join('data', '2014_08_05_farol.gpx')\n",
    "\n",
    "with fiona.open(fname, 'r', layer='tracks') as records:\n",
    "    tracks = [\n",
    "        shapely.geometry.shape(record['geometry']) for record in records\n",
    "    ]\n",
    "\n",
    "track = tracks[0]\n",
    "\n",
    "m = folium.Map(tiles='cartodbpositron')\n",
    "folium.GeoJson(track).add_to(m)\n",
    "\n",
    "m.fit_bounds(m.get_bounds())\n",
    "\n",
    "#m.save(os.path.join('results', 'geopandas_2.html'))\n",
    "\n",
    "m"
   ]
  },
  {
   "cell_type": "code",
   "execution_count": null,
   "metadata": {},
   "outputs": [],
   "source": []
  }
 ],
 "metadata": {
  "kernelspec": {
   "display_name": "Python 3",
   "language": "python",
   "name": "python3"
  },
  "language_info": {
   "codemirror_mode": {
    "name": "ipython",
    "version": 3
   },
   "file_extension": ".py",
   "mimetype": "text/x-python",
   "name": "python",
   "nbconvert_exporter": "python",
   "pygments_lexer": "ipython3",
   "version": "3.6.8"
  }
 },
 "nbformat": 4,
 "nbformat_minor": 1
}
