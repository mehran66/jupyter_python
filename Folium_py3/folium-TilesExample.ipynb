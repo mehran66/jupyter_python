{
 "cells": [
  {
   "cell_type": "code",
   "execution_count": null,
   "metadata": {},
   "outputs": [],
   "source": [
    "import os\n",
    "import folium\n",
    "\n",
    "print(folium.__version__)"
   ]
  },
  {
   "cell_type": "code",
   "execution_count": null,
   "metadata": {},
   "outputs": [],
   "source": [
    "lon, lat = -38.625, -12.875\n",
    "\n",
    "zoom_start = 8"
   ]
  },
  {
   "cell_type": "code",
   "execution_count": null,
   "metadata": {},
   "outputs": [],
   "source": [
    "m = folium.Map(location=[lat, lon], tiles='OpenStreetMap', zoom_start=zoom_start)\n",
    "\n",
    "#m.save(os.path.join('results', 'TilesExample_0.html'))\n",
    "\n",
    "m"
   ]
  },
  {
   "cell_type": "code",
   "execution_count": null,
   "metadata": {},
   "outputs": [],
   "source": [
    "m = folium.Map(location=[lat, lon], tiles='Mapbox Bright', zoom_start=zoom_start)\n",
    "\n",
    "#m.save(os.path.join('results', 'TilesExample_1.html'))\n",
    "\n",
    "m"
   ]
  },
  {
   "cell_type": "code",
   "execution_count": null,
   "metadata": {},
   "outputs": [],
   "source": [
    "m = folium.Map(location=[lat, lon], tiles='Mapbox Control Room', zoom_start=zoom_start)\n",
    "\n",
    "#m.save(os.path.join('results', 'TilesExample_2.html'))\n",
    "\n",
    "m"
   ]
  },
  {
   "cell_type": "code",
   "execution_count": null,
   "metadata": {},
   "outputs": [],
   "source": [
    "m = folium.Map(location=[lat, lon], tiles='Stamen Terrain', zoom_start=zoom_start)\n",
    "\n",
    "#m.save(os.path.join('results', 'TilesExample_3.html'))\n",
    "\n",
    "m"
   ]
  },
  {
   "cell_type": "code",
   "execution_count": null,
   "metadata": {},
   "outputs": [],
   "source": [
    "m = folium.Map(location=[lat, lon], tiles='Stamen Toner', zoom_start=zoom_start)\n",
    "\n",
    "#m.save(os.path.join('results', 'TilesExample_4.html'))\n",
    "\n",
    "m"
   ]
  },
  {
   "cell_type": "code",
   "execution_count": null,
   "metadata": {},
   "outputs": [],
   "source": [
    "m = folium.Map(location=[lat, lon], tiles='Stamen Watercolor', zoom_start=zoom_start)\n",
    "\n",
    "#m.save(os.path.join('results', 'TilesExample_5.html'))\n",
    "\n",
    "m"
   ]
  },
  {
   "cell_type": "code",
   "execution_count": null,
   "metadata": {},
   "outputs": [],
   "source": [
    "m = folium.Map(location=[lat, lon], tiles='Cartodb Positron', zoom_start=zoom_start)\n",
    "\n",
    "#m.save(os.path.join('results', 'TilesExample_6.html'))\n",
    "\n",
    "m"
   ]
  },
  {
   "cell_type": "code",
   "execution_count": null,
   "metadata": {},
   "outputs": [],
   "source": [
    "m = folium.Map(location=[lat, lon], tiles='Cartodb dark_matter', zoom_start=zoom_start)\n",
    "\n",
    "#m.save(os.path.join('results', 'TilesExample_7.html'))\n",
    "\n",
    "m"
   ]
  },
  {
   "cell_type": "markdown",
   "metadata": {},
   "source": [
    "### Custom tiles"
   ]
  },
  {
   "cell_type": "code",
   "execution_count": null,
   "metadata": {},
   "outputs": [],
   "source": [
    "attr = ('&copy; <a href=\"http://www.openstreetmap.org/copyright\">OpenStreetMap</a> '\n",
    "        'contributors, &copy; <a href=\"http://cartodb.com/attributions\">CartoDB</a>')\n",
    "tiles = 'http://{s}.basemaps.cartocdn.com/light_nolabels/{z}/{x}/{y}.png'\n",
    "\n",
    "m = folium.Map(location=[lat, lon], tiles=tiles, attr=attr, zoom_start=zoom_start)\n",
    "\n",
    "#m.save(os.path.join('results', 'TilesExample_8.html'))\n",
    "\n",
    "m\n"
   ]
  },
  {
   "cell_type": "markdown",
   "metadata": {},
   "source": [
    "### There are plenty tile sources to choose from:"
   ]
  },
  {
   "cell_type": "code",
   "execution_count": null,
   "metadata": {},
   "outputs": [],
   "source": [
    "from IPython.display import IFrame\n",
    "\n",
    "IFrame('http://leaflet-extras.github.io/leaflet-providers/preview/', width=900, height=750)"
   ]
  }
 ],
 "metadata": {
  "kernelspec": {
   "display_name": "Python 3",
   "language": "python",
   "name": "python3"
  },
  "language_info": {
   "codemirror_mode": {
    "name": "ipython",
    "version": 3
   },
   "file_extension": ".py",
   "mimetype": "text/x-python",
   "name": "python",
   "nbconvert_exporter": "python",
   "pygments_lexer": "ipython3",
   "version": "3.6.8"
  }
 },
 "nbformat": 4,
 "nbformat_minor": 1
}
