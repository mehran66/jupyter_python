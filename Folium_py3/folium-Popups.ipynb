{
 "cells": [
  {
   "cell_type": "code",
   "execution_count": 1,
   "metadata": {},
   "outputs": [
    {
     "name": "stdout",
     "output_type": "stream",
     "text": [
      "0.6.0\n"
     ]
    }
   ],
   "source": [
    "import os\n",
    "import folium\n",
    "\n",
    "print(folium.__version__)"
   ]
  },
  {
   "cell_type": "markdown",
   "metadata": {},
   "source": [
    "# How to create Popups\n",
    "\n",
    "## Simple popups\n",
    "\n",
    "You can define your popup at the feature creation, but you can also overwrite them afterwards:"
   ]
  },
  {
   "cell_type": "code",
   "execution_count": 2,
   "metadata": {},
   "outputs": [
    {
     "data": {
      "text/html": [
       "<div style=\"width:100%;\"><div style=\"position:relative;width:100%;height:0;padding-bottom:60%;\"><iframe src=\"data:text/html;charset=utf-8;base64,PCFET0NUWVBFIGh0bWw+CjxoZWFkPiAgICAKICAgIDxtZXRhIGh0dHAtZXF1aXY9ImNvbnRlbnQtdHlwZSIgY29udGVudD0idGV4dC9odG1sOyBjaGFyc2V0PVVURi04IiAvPgogICAgPHNjcmlwdD5MX1BSRUZFUl9DQU5WQVM9ZmFsc2U7IExfTk9fVE9VQ0g9ZmFsc2U7IExfRElTQUJMRV8zRD1mYWxzZTs8L3NjcmlwdD4KICAgIDxzY3JpcHQgc3JjPSJodHRwczovL2Nkbi5qc2RlbGl2ci5uZXQvbnBtL2xlYWZsZXRAMS4yLjAvZGlzdC9sZWFmbGV0LmpzIj48L3NjcmlwdD4KICAgIDxzY3JpcHQgc3JjPSJodHRwczovL2FqYXguZ29vZ2xlYXBpcy5jb20vYWpheC9saWJzL2pxdWVyeS8xLjExLjEvanF1ZXJ5Lm1pbi5qcyI+PC9zY3JpcHQ+CiAgICA8c2NyaXB0IHNyYz0iaHR0cHM6Ly9tYXhjZG4uYm9vdHN0cmFwY2RuLmNvbS9ib290c3RyYXAvMy4yLjAvanMvYm9vdHN0cmFwLm1pbi5qcyI+PC9zY3JpcHQ+CiAgICA8c2NyaXB0IHNyYz0iaHR0cHM6Ly9jZG5qcy5jbG91ZGZsYXJlLmNvbS9hamF4L2xpYnMvTGVhZmxldC5hd2Vzb21lLW1hcmtlcnMvMi4wLjIvbGVhZmxldC5hd2Vzb21lLW1hcmtlcnMuanMiPjwvc2NyaXB0PgogICAgPGxpbmsgcmVsPSJzdHlsZXNoZWV0IiBocmVmPSJodHRwczovL2Nkbi5qc2RlbGl2ci5uZXQvbnBtL2xlYWZsZXRAMS4yLjAvZGlzdC9sZWFmbGV0LmNzcyIvPgogICAgPGxpbmsgcmVsPSJzdHlsZXNoZWV0IiBocmVmPSJodHRwczovL21heGNkbi5ib290c3RyYXBjZG4uY29tL2Jvb3RzdHJhcC8zLjIuMC9jc3MvYm9vdHN0cmFwLm1pbi5jc3MiLz4KICAgIDxsaW5rIHJlbD0ic3R5bGVzaGVldCIgaHJlZj0iaHR0cHM6Ly9tYXhjZG4uYm9vdHN0cmFwY2RuLmNvbS9ib290c3RyYXAvMy4yLjAvY3NzL2Jvb3RzdHJhcC10aGVtZS5taW4uY3NzIi8+CiAgICA8bGluayByZWw9InN0eWxlc2hlZXQiIGhyZWY9Imh0dHBzOi8vbWF4Y2RuLmJvb3RzdHJhcGNkbi5jb20vZm9udC1hd2Vzb21lLzQuNi4zL2Nzcy9mb250LWF3ZXNvbWUubWluLmNzcyIvPgogICAgPGxpbmsgcmVsPSJzdHlsZXNoZWV0IiBocmVmPSJodHRwczovL2NkbmpzLmNsb3VkZmxhcmUuY29tL2FqYXgvbGlicy9MZWFmbGV0LmF3ZXNvbWUtbWFya2Vycy8yLjAuMi9sZWFmbGV0LmF3ZXNvbWUtbWFya2Vycy5jc3MiLz4KICAgIDxsaW5rIHJlbD0ic3R5bGVzaGVldCIgaHJlZj0iaHR0cHM6Ly9yYXdnaXQuY29tL3B5dGhvbi12aXN1YWxpemF0aW9uL2ZvbGl1bS9tYXN0ZXIvZm9saXVtL3RlbXBsYXRlcy9sZWFmbGV0LmF3ZXNvbWUucm90YXRlLmNzcyIvPgogICAgPHN0eWxlPmh0bWwsIGJvZHkge3dpZHRoOiAxMDAlO2hlaWdodDogMTAwJTttYXJnaW46IDA7cGFkZGluZzogMDt9PC9zdHlsZT4KICAgIDxzdHlsZT4jbWFwIHtwb3NpdGlvbjphYnNvbHV0ZTt0b3A6MDtib3R0b206MDtyaWdodDowO2xlZnQ6MDt9PC9zdHlsZT4KICAgIAogICAgPHN0eWxlPiNtYXBfNzE3NGZjYmNjNTY5NDZhMDhlMjg4MmI0YzUxOWQ5MDIgewogICAgICAgIHBvc2l0aW9uOiByZWxhdGl2ZTsKICAgICAgICB3aWR0aDogMTAwLjAlOwogICAgICAgIGhlaWdodDogMTAwLjAlOwogICAgICAgIGxlZnQ6IDAuMCU7CiAgICAgICAgdG9wOiAwLjAlOwogICAgICAgIH0KICAgIDwvc3R5bGU+CjwvaGVhZD4KPGJvZHk+ICAgIAogICAgCiAgICA8ZGl2IGNsYXNzPSJmb2xpdW0tbWFwIiBpZD0ibWFwXzcxNzRmY2JjYzU2OTQ2YTA4ZTI4ODJiNGM1MTlkOTAyIiA+PC9kaXY+CjwvYm9keT4KPHNjcmlwdD4gICAgCiAgICAKICAgIAogICAgICAgIHZhciBib3VuZHMgPSBudWxsOwogICAgCgogICAgdmFyIG1hcF83MTc0ZmNiY2M1Njk0NmEwOGUyODgyYjRjNTE5ZDkwMiA9IEwubWFwKAogICAgICAgICdtYXBfNzE3NGZjYmNjNTY5NDZhMDhlMjg4MmI0YzUxOWQ5MDInLCB7CiAgICAgICAgY2VudGVyOiBbNDUsIDBdLAogICAgICAgIHpvb206IDQsCiAgICAgICAgbWF4Qm91bmRzOiBib3VuZHMsCiAgICAgICAgbGF5ZXJzOiBbXSwKICAgICAgICB3b3JsZENvcHlKdW1wOiBmYWxzZSwKICAgICAgICBjcnM6IEwuQ1JTLkVQU0czODU3LAogICAgICAgIHpvb21Db250cm9sOiB0cnVlLAogICAgICAgIH0pOwoKICAgIAogICAgCiAgICB2YXIgdGlsZV9sYXllcl9lZGY0ZWE2NDhlYjg0MmZiYmMxZGU2N2IyNDdiNTcwMyA9IEwudGlsZUxheWVyKAogICAgICAgICdodHRwczovL3tzfS50aWxlLm9wZW5zdHJlZXRtYXAub3JnL3t6fS97eH0ve3l9LnBuZycsCiAgICAgICAgewogICAgICAgICJhdHRyaWJ1dGlvbiI6IG51bGwsIAogICAgICAgICJkZXRlY3RSZXRpbmEiOiBmYWxzZSwgCiAgICAgICAgIm1heE5hdGl2ZVpvb20iOiAxOCwgCiAgICAgICAgIm1heFpvb20iOiAxOCwgCiAgICAgICAgIm1pblpvb20iOiAwLCAKICAgICAgICAibm9XcmFwIjogZmFsc2UsIAogICAgICAgICJzdWJkb21haW5zIjogImFiYyIKfSkuYWRkVG8obWFwXzcxNzRmY2JjYzU2OTQ2YTA4ZTI4ODJiNGM1MTlkOTAyKTsKICAgIAogICAgICAgIHZhciBtYXJrZXJfMTJkYzUxNzhkYWEyNDc5M2E4MDBhZmU4YWE2MjMzYmQgPSBMLm1hcmtlcigKICAgICAgICAgICAgWzQ1LCAtMzBdLAogICAgICAgICAgICB7CiAgICAgICAgICAgICAgICBpY29uOiBuZXcgTC5JY29uLkRlZmF1bHQoKQogICAgICAgICAgICAgICAgfQogICAgICAgICAgICApLmFkZFRvKG1hcF83MTc0ZmNiY2M1Njk0NmEwOGUyODgyYjRjNTE5ZDkwMik7CiAgICAgICAgCiAgICAKICAgICAgICAgICAgdmFyIHBvcHVwXzk5OWQ5MzhmZTg3ZTQwOWJhZmIxNWE2NDNhMTM3YTQ1ID0gTC5wb3B1cCh7bWF4V2lkdGg6ICczMDAnCiAgICAgICAgICAgIAogICAgICAgICAgICB9KTsKCiAgICAgICAgICAgIAogICAgICAgICAgICAgICAgdmFyIGh0bWxfMTU2M2NiMDNmODE5NDViYzlhNzM5ODdjMjlhZTAyYzcgPSAkKCc8ZGl2IGlkPSJodG1sXzE1NjNjYjAzZjgxOTQ1YmM5YTczOTg3YzI5YWUwMmM3IiBzdHlsZT0id2lkdGg6IDEwMC4wJTsgaGVpZ2h0OiAxMDAuMCU7Ij5pbmxpbmUgaW1wbGljaXQgcG9wdXA8L2Rpdj4nKVswXTsKICAgICAgICAgICAgICAgIHBvcHVwXzk5OWQ5MzhmZTg3ZTQwOWJhZmIxNWE2NDNhMTM3YTQ1LnNldENvbnRlbnQoaHRtbF8xNTYzY2IwM2Y4MTk0NWJjOWE3Mzk4N2MyOWFlMDJjNyk7CiAgICAgICAgICAgIAoKICAgICAgICAgICAgbWFya2VyXzEyZGM1MTc4ZGFhMjQ3OTNhODAwYWZlOGFhNjIzM2JkLmJpbmRQb3B1cChwb3B1cF85OTlkOTM4ZmU4N2U0MDliYWZiMTVhNjQzYTEzN2E0NSkKICAgICAgICAgICAgOwoKICAgICAgICAgICAgCiAgICAgICAgCiAgICAKICAgICAgICAgICAgdmFyIGNpcmNsZV9tYXJrZXJfMjM1OWMxYzVhODY5NDRhZjk2OTgyNTVlMzY3MmNkZjMgPSBMLmNpcmNsZU1hcmtlcigKICAgICAgICAgICAgICAgIFs0NSwgLTEwXSwKICAgICAgICAgICAgICAgIHsKICAiYnViYmxpbmdNb3VzZUV2ZW50cyI6IHRydWUsIAogICJjb2xvciI6ICIjMzM4OGZmIiwgCiAgImRhc2hBcnJheSI6IG51bGwsIAogICJkYXNoT2Zmc2V0IjogbnVsbCwgCiAgImZpbGwiOiB0cnVlLCAKICAiZmlsbENvbG9yIjogIiMzMzg4ZmYiLCAKICAiZmlsbE9wYWNpdHkiOiAwLjIsIAogICJmaWxsUnVsZSI6ICJldmVub2RkIiwgCiAgImxpbmVDYXAiOiAicm91bmQiLCAKICAibGluZUpvaW4iOiAicm91bmQiLCAKICAib3BhY2l0eSI6IDEuMCwgCiAgInJhZGl1cyI6IDI1LCAKICAic3Ryb2tlIjogdHJ1ZSwgCiAgIndlaWdodCI6IDMKfQogICAgICAgICAgICAgICAgKQogICAgICAgICAgICAgICAgLmFkZFRvKG1hcF83MTc0ZmNiY2M1Njk0NmEwOGUyODgyYjRjNTE5ZDkwMik7CiAgICAgICAgICAgIAogICAgCiAgICAgICAgICAgIHZhciBwb3B1cF9iMjNkNTVjM2Y5MDY0ZTFiYWEwZTcyZTY2ODAyMmVjZSA9IEwucG9wdXAoe21heFdpZHRoOiAnMzAwJwogICAgICAgICAgICAKICAgICAgICAgICAgfSk7CgogICAgICAgICAgICAKICAgICAgICAgICAgICAgIHZhciBodG1sX2U4ZWRiYmFmOTBmYjQ0Y2RiOTk5NGM4ZTU1NzdjZjg4ID0gJCgnPGRpdiBpZD0iaHRtbF9lOGVkYmJhZjkwZmI0NGNkYjk5OTRjOGU1NTc3Y2Y4OCIgc3R5bGU9IndpZHRoOiAxMDAuMCU7IGhlaWdodDogMTAwLjAlOyI+aW5saW5lIGV4cGxpY2l0IFBvcHVwPC9kaXY+JylbMF07CiAgICAgICAgICAgICAgICBwb3B1cF9iMjNkNTVjM2Y5MDY0ZTFiYWEwZTcyZTY2ODAyMmVjZS5zZXRDb250ZW50KGh0bWxfZThlZGJiYWY5MGZiNDRjZGI5OTk0YzhlNTU3N2NmODgpOwogICAgICAgICAgICAKCiAgICAgICAgICAgIGNpcmNsZV9tYXJrZXJfMjM1OWMxYzVhODY5NDRhZjk2OTgyNTVlMzY3MmNkZjMuYmluZFBvcHVwKHBvcHVwX2IyM2Q1NWMzZjkwNjRlMWJhYTBlNzJlNjY4MDIyZWNlKQogICAgICAgICAgICA7CgogICAgICAgICAgICAKICAgICAgICAKICAgIAogICAgICAgICAgICAgICAgdmFyIHBvbHlfbGluZV9mNjc0MDY2ODUwNzc0M2NmODZhZmIxZjQyMDY2MTY2MiA9IEwucG9seWxpbmUoCiAgICAgICAgICAgICAgICAgICAgW1s0MywgN10sIFs0MywgMTNdLCBbNDcsIDEzXSwgWzQ3LCA3XSwgWzQzLCA3XV0sCiAgICAgICAgICAgICAgICAgICAgewogICJidWJibGluZ01vdXNlRXZlbnRzIjogdHJ1ZSwgCiAgImNvbG9yIjogInJlZCIsIAogICJkYXNoQXJyYXkiOiBudWxsLCAKICAiZGFzaE9mZnNldCI6IG51bGwsIAogICJmaWxsIjogZmFsc2UsIAogICJmaWxsQ29sb3IiOiAicmVkIiwgCiAgImZpbGxPcGFjaXR5IjogMC4yLCAKICAiZmlsbFJ1bGUiOiAiZXZlbm9kZCIsIAogICJsaW5lQ2FwIjogInJvdW5kIiwgCiAgImxpbmVKb2luIjogInJvdW5kIiwgCiAgIm5vQ2xpcCI6IGZhbHNlLCAKICAib3BhY2l0eSI6IDEuMCwgCiAgInNtb290aEZhY3RvciI6IDEuMCwgCiAgInN0cm9rZSI6IHRydWUsIAogICJ3ZWlnaHQiOiAzCn0KICAgICAgICAgICAgICAgICAgICApCiAgICAgICAgICAgICAgICAgICAgLmFkZFRvKG1hcF83MTc0ZmNiY2M1Njk0NmEwOGUyODgyYjRjNTE5ZDkwMik7CiAgICAgICAgICAgIAogICAgCiAgICAgICAgICAgIHZhciBwb3B1cF9kYTQ3MjY5ZGVmNzY0YTE1OTVlZDY0ODZlYjExYjRiOCA9IEwucG9wdXAoe21heFdpZHRoOiAnMzAwJwogICAgICAgICAgICAKICAgICAgICAgICAgfSk7CgogICAgICAgICAgICAKICAgICAgICAgICAgICAgIHZhciBodG1sX2NjOTM0YzE1ZDI1ZDQyZmNiOTM5NTg3ZDg1MmM2NDk5ID0gJCgnPGRpdiBpZD0iaHRtbF9jYzkzNGMxNWQyNWQ0MmZjYjkzOTU4N2Q4NTJjNjQ5OSIgc3R5bGU9IndpZHRoOiAxMDAuMCU7IGhlaWdodDogMTAwLjAlOyI+b3V0bGluZSBQb3B1cCBvbiBQb2x5bGluZTwvZGl2PicpWzBdOwogICAgICAgICAgICAgICAgcG9wdXBfZGE0NzI2OWRlZjc2NGExNTk1ZWQ2NDg2ZWIxMWI0Yjguc2V0Q29udGVudChodG1sX2NjOTM0YzE1ZDI1ZDQyZmNiOTM5NTg3ZDg1MmM2NDk5KTsKICAgICAgICAgICAgCgogICAgICAgICAgICBwb2x5X2xpbmVfZjY3NDA2Njg1MDc3NDNjZjg2YWZiMWY0MjA2NjE2NjIuYmluZFBvcHVwKHBvcHVwX2RhNDcyNjlkZWY3NjRhMTU5NWVkNjQ4NmViMTFiNGI4KQogICAgICAgICAgICA7CgogICAgICAgICAgICAKICAgICAgICAKICAgIAogICAgICAgIAogICAgICAgIHZhciBnZW9fanNvbl85MDM2ZjRmNWJiMmE0Y2RlOGU1Zjc2Nzg5MjY2M2VkOCA9IEwuZ2VvSnNvbigKICAgICAgICAgICAgeyJmZWF0dXJlcyI6IFt7Imdlb21ldHJ5IjogeyJjb29yZGluYXRlcyI6IFtbWzI3LCA0M10sIFszMywgNDNdLCBbMzMsIDQ3XSwgWzI3LCA0N11dXSwgInR5cGUiOiAiUG9seWdvbiJ9LCAicHJvcGVydGllcyI6IHsiaGlnaGxpZ2h0Ijoge30sICJzdHlsZSI6IHt9fSwgInR5cGUiOiAiRmVhdHVyZSJ9XSwgInR5cGUiOiAiRmVhdHVyZUNvbGxlY3Rpb24ifQogICAgICAgICAgICAKICAgICAgICAgICAgKS5hZGRUbyhtYXBfNzE3NGZjYmNjNTY5NDZhMDhlMjg4MmI0YzUxOWQ5MDIpOwogICAgICAgIGdlb19qc29uXzkwMzZmNGY1YmIyYTRjZGU4ZTVmNzY3ODkyNjYzZWQ4LnNldFN0eWxlKGZ1bmN0aW9uKGZlYXR1cmUpIHtyZXR1cm4gZmVhdHVyZS5wcm9wZXJ0aWVzLnN0eWxlO30pOwogICAgICAgIAogICAgCiAgICAgICAgICAgIHZhciBwb3B1cF8yZmRiYjcxODcyMjY0MzFlOGJkYjA5N2ZhYzUwMGQxMiA9IEwucG9wdXAoe21heFdpZHRoOiAnMzAwJwogICAgICAgICAgICAKICAgICAgICAgICAgfSk7CgogICAgICAgICAgICAKICAgICAgICAgICAgICAgIHZhciBodG1sXzU4MGQwMWY2OGMwOTQyYTc5ZDIyNmQ1NDRiNGUzZmJjID0gJCgnPGRpdiBpZD0iaHRtbF81ODBkMDFmNjhjMDk0MmE3OWQyMjZkNTQ0YjRlM2ZiYyIgc3R5bGU9IndpZHRoOiAxMDAuMCU7IGhlaWdodDogMTAwLjAlOyI+b3V0bGluZSBQb3B1cCBvbiBHZW9KU09OPC9kaXY+JylbMF07CiAgICAgICAgICAgICAgICBwb3B1cF8yZmRiYjcxODcyMjY0MzFlOGJkYjA5N2ZhYzUwMGQxMi5zZXRDb250ZW50KGh0bWxfNTgwZDAxZjY4YzA5NDJhNzlkMjI2ZDU0NGI0ZTNmYmMpOwogICAgICAgICAgICAKCiAgICAgICAgICAgIGdlb19qc29uXzkwMzZmNGY1YmIyYTRjZGU4ZTVmNzY3ODkyNjYzZWQ4LmJpbmRQb3B1cChwb3B1cF8yZmRiYjcxODcyMjY0MzFlOGJkYjA5N2ZhYzUwMGQxMikKICAgICAgICAgICAgOwoKICAgICAgICAgICAgCiAgICAgICAgCjwvc2NyaXB0Pg==\" style=\"position:absolute;width:100%;height:100%;left:0;top:0;border:none !important;\" allowfullscreen webkitallowfullscreen mozallowfullscreen></iframe></div></div>"
      ],
      "text/plain": [
       "<folium.folium.Map at 0x7fe31f449090>"
      ]
     },
     "execution_count": 2,
     "metadata": {},
     "output_type": "execute_result"
    }
   ],
   "source": [
    "m = folium.Map([45, 0], zoom_start=4)\n",
    "\n",
    "folium.Marker([45, -30], popup='inline implicit popup').add_to(m)\n",
    "\n",
    "folium.CircleMarker(\n",
    "    location=[45, -10],\n",
    "    radius=25,\n",
    "    fill=True,\n",
    "    popup=folium.Popup('inline explicit Popup')\n",
    ").add_to(m)\n",
    "\n",
    "ls = folium.PolyLine(\n",
    "    locations=[[43, 7], [43, 13], [47, 13], [47, 7], [43, 7]],\n",
    "    color='red'\n",
    ")\n",
    "\n",
    "ls.add_child(folium.Popup('outline Popup on Polyline'))\n",
    "ls.add_to(m)\n",
    "\n",
    "gj = folium.GeoJson(\n",
    "    data={\n",
    "        'type': 'Polygon',\n",
    "        'coordinates': [[[27, 43], [33, 43], [33, 47], [27, 47]]]\n",
    "    }\n",
    ")\n",
    "\n",
    "gj.add_child(folium.Popup('outline Popup on GeoJSON'))\n",
    "gj.add_to(m)\n",
    "\n",
    "#m.save(os.path.join('results', 'simple_popups.html'))\n",
    "\n",
    "m"
   ]
  },
  {
   "cell_type": "code",
   "execution_count": 3,
   "metadata": {},
   "outputs": [
    {
     "data": {
      "text/html": [
       "<div style=\"width:100%;\"><div style=\"position:relative;width:100%;height:0;padding-bottom:60%;\"><iframe src=\"data:text/html;charset=utf-8;base64,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\" style=\"position:absolute;width:100%;height:100%;left:0;top:0;border:none !important;\" allowfullscreen webkitallowfullscreen mozallowfullscreen></iframe></div></div>"
      ],
      "text/plain": [
       "<folium.folium.Map at 0x7fe31f447f90>"
      ]
     },
     "execution_count": 3,
     "metadata": {},
     "output_type": "execute_result"
    }
   ],
   "source": [
    "m = folium.Map([45, 0], zoom_start=2)\n",
    "\n",
    "folium.Marker(\n",
    "    location=[45, -10],\n",
    "    popup=folium.Popup(\"Let's try quotes\", parse_html=True)\n",
    ").add_to(m)\n",
    "\n",
    "folium.Marker(\n",
    "    location=[45, -30],\n",
    "    popup=folium.Popup(u\"Ça c'est chouette\", parse_html=True)\n",
    ").add_to(m)\n",
    "\n",
    "m"
   ]
  },
  {
   "cell_type": "markdown",
   "metadata": {},
   "source": [
    "## Vega Popup\n",
    "\n",
    "You may know that it's possible to create awesome Vega charts with (or without) `vincent`. If you're willing to put one inside a popup, it's possible thanks to `folium.Vega`."
   ]
  },
  {
   "cell_type": "code",
   "execution_count": 4,
   "metadata": {},
   "outputs": [
    {
     "ename": "ImportError",
     "evalue": "No module named vincent",
     "output_type": "error",
     "traceback": [
      "\u001b[0;31m---------------------------------------------------------------------------\u001b[0m",
      "\u001b[0;31mImportError\u001b[0m                               Traceback (most recent call last)",
      "\u001b[0;32m<ipython-input-4-d9c33153bcad>\u001b[0m in \u001b[0;36m<module>\u001b[0;34m()\u001b[0m\n\u001b[1;32m      1\u001b[0m \u001b[0;32mimport\u001b[0m \u001b[0mjson\u001b[0m\u001b[0;34m\u001b[0m\u001b[0;34m\u001b[0m\u001b[0m\n\u001b[1;32m      2\u001b[0m \u001b[0;32mimport\u001b[0m \u001b[0mnumpy\u001b[0m \u001b[0;32mas\u001b[0m \u001b[0mnp\u001b[0m\u001b[0;34m\u001b[0m\u001b[0;34m\u001b[0m\u001b[0m\n\u001b[0;32m----> 3\u001b[0;31m \u001b[0;32mimport\u001b[0m \u001b[0mvincent\u001b[0m\u001b[0;34m\u001b[0m\u001b[0;34m\u001b[0m\u001b[0m\n\u001b[0m\u001b[1;32m      4\u001b[0m \u001b[0;34m\u001b[0m\u001b[0m\n\u001b[1;32m      5\u001b[0m scatter_points = {\n",
      "\u001b[0;31mImportError\u001b[0m: No module named vincent"
     ]
    }
   ],
   "source": [
    "import json\n",
    "import numpy as np\n",
    "import vincent\n",
    "\n",
    "scatter_points = {\n",
    "    'x': np.random.uniform(size=(100,)),\n",
    "    'y': np.random.uniform(size=(100,)),\n",
    "}\n",
    "\n",
    "# Let's create the vincent chart.\n",
    "scatter_chart = vincent.Scatter(scatter_points,\n",
    "                                iter_idx='x',\n",
    "                                width=600,\n",
    "                                height=300)\n",
    "\n",
    "# Let's convert it to JSON.\n",
    "scatter_json = scatter_chart.to_json()\n",
    "\n",
    "# Let's convert it to dict.\n",
    "scatter_dict = json.loads(scatter_json)"
   ]
  },
  {
   "cell_type": "code",
   "execution_count": 5,
   "metadata": {},
   "outputs": [
    {
     "ename": "NameError",
     "evalue": "name 'scatter_chart' is not defined",
     "output_type": "error",
     "traceback": [
      "\u001b[0;31m---------------------------------------------------------------------------\u001b[0m",
      "\u001b[0;31mNameError\u001b[0m                                 Traceback (most recent call last)",
      "\u001b[0;32m<ipython-input-5-dfb144157983>\u001b[0m in \u001b[0;36m<module>\u001b[0;34m()\u001b[0m\n\u001b[1;32m      2\u001b[0m \u001b[0;34m\u001b[0m\u001b[0m\n\u001b[1;32m      3\u001b[0m \u001b[0mpopup\u001b[0m \u001b[0;34m=\u001b[0m \u001b[0mfolium\u001b[0m\u001b[0;34m.\u001b[0m\u001b[0mPopup\u001b[0m\u001b[0;34m(\u001b[0m\u001b[0;34m)\u001b[0m\u001b[0;34m\u001b[0m\u001b[0;34m\u001b[0m\u001b[0m\n\u001b[0;32m----> 4\u001b[0;31m \u001b[0mfolium\u001b[0m\u001b[0;34m.\u001b[0m\u001b[0mVega\u001b[0m\u001b[0;34m(\u001b[0m\u001b[0mscatter_chart\u001b[0m\u001b[0;34m,\u001b[0m \u001b[0mheight\u001b[0m\u001b[0;34m=\u001b[0m\u001b[0;36m350\u001b[0m\u001b[0;34m,\u001b[0m \u001b[0mwidth\u001b[0m\u001b[0;34m=\u001b[0m\u001b[0;36m650\u001b[0m\u001b[0;34m)\u001b[0m\u001b[0;34m.\u001b[0m\u001b[0madd_to\u001b[0m\u001b[0;34m(\u001b[0m\u001b[0mpopup\u001b[0m\u001b[0;34m)\u001b[0m\u001b[0;34m\u001b[0m\u001b[0;34m\u001b[0m\u001b[0m\n\u001b[0m\u001b[1;32m      5\u001b[0m \u001b[0mfolium\u001b[0m\u001b[0;34m.\u001b[0m\u001b[0mMarker\u001b[0m\u001b[0;34m(\u001b[0m\u001b[0;34m[\u001b[0m\u001b[0;36m30\u001b[0m\u001b[0;34m,\u001b[0m \u001b[0;34m-\u001b[0m\u001b[0;36m120\u001b[0m\u001b[0;34m]\u001b[0m\u001b[0;34m,\u001b[0m \u001b[0mpopup\u001b[0m\u001b[0;34m=\u001b[0m\u001b[0mpopup\u001b[0m\u001b[0;34m)\u001b[0m\u001b[0;34m.\u001b[0m\u001b[0madd_to\u001b[0m\u001b[0;34m(\u001b[0m\u001b[0mm\u001b[0m\u001b[0;34m)\u001b[0m\u001b[0;34m\u001b[0m\u001b[0;34m\u001b[0m\u001b[0m\n\u001b[1;32m      6\u001b[0m \u001b[0;34m\u001b[0m\u001b[0m\n",
      "\u001b[0;31mNameError\u001b[0m: name 'scatter_chart' is not defined"
     ]
    }
   ],
   "source": [
    "m = folium.Map([43, -100], zoom_start=4)\n",
    "\n",
    "popup = folium.Popup()\n",
    "folium.Vega(scatter_chart, height=350, width=650).add_to(popup)\n",
    "folium.Marker([30, -120], popup=popup).add_to(m)\n",
    "\n",
    "# Let's create a Vega popup based on scatter_json.\n",
    "popup = folium.Popup(max_width=0)\n",
    "folium.Vega(scatter_json, height=350, width=650).add_to(popup)\n",
    "folium.Marker([30, -100], popup=popup).add_to(m)\n",
    "\n",
    "# Let's create a Vega popup based on scatter_dict.\n",
    "popup = folium.Popup(max_width=650)\n",
    "folium.Vega(scatter_dict, height=350, width=650).add_to(popup)\n",
    "folium.Marker([30, -80], popup=popup).add_to(m)\n",
    "\n",
    "#m.save(os.path.join('results', 'vega_popups.html'))\n",
    "\n",
    "m"
   ]
  },
  {
   "cell_type": "markdown",
   "metadata": {},
   "source": [
    "## Fancy HTML popup"
   ]
  },
  {
   "cell_type": "code",
   "execution_count": 7,
   "metadata": {},
   "outputs": [
    {
     "data": {
      "text/html": [
       "<div style=\"width:100%;\"><div style=\"position:relative;width:100%;height:0;padding-bottom:60%;\"><iframe src=\"data:text/html;charset=utf-8;base64,PCFET0NUWVBFIGh0bWw+CjxoZWFkPiAgICAKICAgIDxtZXRhIGh0dHAtZXF1aXY9ImNvbnRlbnQtdHlwZSIgY29udGVudD0idGV4dC9odG1sOyBjaGFyc2V0PVVURi04IiAvPgogICAgPHNjcmlwdD5MX1BSRUZFUl9DQU5WQVM9ZmFsc2U7IExfTk9fVE9VQ0g9ZmFsc2U7IExfRElTQUJMRV8zRD1mYWxzZTs8L3NjcmlwdD4KICAgIDxzY3JpcHQgc3JjPSJodHRwczovL2Nkbi5qc2RlbGl2ci5uZXQvbnBtL2xlYWZsZXRAMS4yLjAvZGlzdC9sZWFmbGV0LmpzIj48L3NjcmlwdD4KICAgIDxzY3JpcHQgc3JjPSJodHRwczovL2FqYXguZ29vZ2xlYXBpcy5jb20vYWpheC9saWJzL2pxdWVyeS8xLjExLjEvanF1ZXJ5Lm1pbi5qcyI+PC9zY3JpcHQ+CiAgICA8c2NyaXB0IHNyYz0iaHR0cHM6Ly9tYXhjZG4uYm9vdHN0cmFwY2RuLmNvbS9ib290c3RyYXAvMy4yLjAvanMvYm9vdHN0cmFwLm1pbi5qcyI+PC9zY3JpcHQ+CiAgICA8c2NyaXB0IHNyYz0iaHR0cHM6Ly9jZG5qcy5jbG91ZGZsYXJlLmNvbS9hamF4L2xpYnMvTGVhZmxldC5hd2Vzb21lLW1hcmtlcnMvMi4wLjIvbGVhZmxldC5hd2Vzb21lLW1hcmtlcnMuanMiPjwvc2NyaXB0PgogICAgPGxpbmsgcmVsPSJzdHlsZXNoZWV0IiBocmVmPSJodHRwczovL2Nkbi5qc2RlbGl2ci5uZXQvbnBtL2xlYWZsZXRAMS4yLjAvZGlzdC9sZWFmbGV0LmNzcyIvPgogICAgPGxpbmsgcmVsPSJzdHlsZXNoZWV0IiBocmVmPSJodHRwczovL21heGNkbi5ib290c3RyYXBjZG4uY29tL2Jvb3RzdHJhcC8zLjIuMC9jc3MvYm9vdHN0cmFwLm1pbi5jc3MiLz4KICAgIDxsaW5rIHJlbD0ic3R5bGVzaGVldCIgaHJlZj0iaHR0cHM6Ly9tYXhjZG4uYm9vdHN0cmFwY2RuLmNvbS9ib290c3RyYXAvMy4yLjAvY3NzL2Jvb3RzdHJhcC10aGVtZS5taW4uY3NzIi8+CiAgICA8bGluayByZWw9InN0eWxlc2hlZXQiIGhyZWY9Imh0dHBzOi8vbWF4Y2RuLmJvb3RzdHJhcGNkbi5jb20vZm9udC1hd2Vzb21lLzQuNi4zL2Nzcy9mb250LWF3ZXNvbWUubWluLmNzcyIvPgogICAgPGxpbmsgcmVsPSJzdHlsZXNoZWV0IiBocmVmPSJodHRwczovL2NkbmpzLmNsb3VkZmxhcmUuY29tL2FqYXgvbGlicy9MZWFmbGV0LmF3ZXNvbWUtbWFya2Vycy8yLjAuMi9sZWFmbGV0LmF3ZXNvbWUtbWFya2Vycy5jc3MiLz4KICAgIDxsaW5rIHJlbD0ic3R5bGVzaGVldCIgaHJlZj0iaHR0cHM6Ly9yYXdnaXQuY29tL3B5dGhvbi12aXN1YWxpemF0aW9uL2ZvbGl1bS9tYXN0ZXIvZm9saXVtL3RlbXBsYXRlcy9sZWFmbGV0LmF3ZXNvbWUucm90YXRlLmNzcyIvPgogICAgPHN0eWxlPmh0bWwsIGJvZHkge3dpZHRoOiAxMDAlO2hlaWdodDogMTAwJTttYXJnaW46IDA7cGFkZGluZzogMDt9PC9zdHlsZT4KICAgIDxzdHlsZT4jbWFwIHtwb3NpdGlvbjphYnNvbHV0ZTt0b3A6MDtib3R0b206MDtyaWdodDowO2xlZnQ6MDt9PC9zdHlsZT4KICAgIAogICAgPHN0eWxlPiNtYXBfZWQ0ZDFlZmY0ZWYwNDk5NmE1YTIxMWJlNTYzNjAwNWIgewogICAgICAgIHBvc2l0aW9uOiByZWxhdGl2ZTsKICAgICAgICB3aWR0aDogMTAwLjAlOwogICAgICAgIGhlaWdodDogMTAwLjAlOwogICAgICAgIGxlZnQ6IDAuMCU7CiAgICAgICAgdG9wOiAwLjAlOwogICAgICAgIH0KICAgIDwvc3R5bGU+CjwvaGVhZD4KPGJvZHk+ICAgIAogICAgCiAgICA8ZGl2IGNsYXNzPSJmb2xpdW0tbWFwIiBpZD0ibWFwX2VkNGQxZWZmNGVmMDQ5OTZhNWEyMTFiZTU2MzYwMDViIiA+PC9kaXY+CjwvYm9keT4KPHNjcmlwdD4gICAgCiAgICAKICAgIAogICAgICAgIHZhciBib3VuZHMgPSBudWxsOwogICAgCgogICAgdmFyIG1hcF9lZDRkMWVmZjRlZjA0OTk2YTVhMjExYmU1NjM2MDA1YiA9IEwubWFwKAogICAgICAgICdtYXBfZWQ0ZDFlZmY0ZWYwNDk5NmE1YTIxMWJlNTYzNjAwNWInLCB7CiAgICAgICAgY2VudGVyOiBbNDMsIC0xMDBdLAogICAgICAgIHpvb206IDQsCiAgICAgICAgbWF4Qm91bmRzOiBib3VuZHMsCiAgICAgICAgbGF5ZXJzOiBbXSwKICAgICAgICB3b3JsZENvcHlKdW1wOiBmYWxzZSwKICAgICAgICBjcnM6IEwuQ1JTLkVQU0czODU3LAogICAgICAgIHpvb21Db250cm9sOiB0cnVlLAogICAgICAgIH0pOwoKICAgIAogICAgCiAgICB2YXIgdGlsZV9sYXllcl84YzM3NmRhOTdhMTM0MjA1OWM0Y2ZkYzE2M2ZiZGI1ZSA9IEwudGlsZUxheWVyKAogICAgICAgICdodHRwczovL3tzfS50aWxlLm9wZW5zdHJlZXRtYXAub3JnL3t6fS97eH0ve3l9LnBuZycsCiAgICAgICAgewogICAgICAgICJhdHRyaWJ1dGlvbiI6IG51bGwsIAogICAgICAgICJkZXRlY3RSZXRpbmEiOiBmYWxzZSwgCiAgICAgICAgIm1heE5hdGl2ZVpvb20iOiAxOCwgCiAgICAgICAgIm1heFpvb20iOiAxOCwgCiAgICAgICAgIm1pblpvb20iOiAwLCAKICAgICAgICAibm9XcmFwIjogZmFsc2UsIAogICAgICAgICJzdWJkb21haW5zIjogImFiYyIKfSkuYWRkVG8obWFwX2VkNGQxZWZmNGVmMDQ5OTZhNWEyMTFiZTU2MzYwMDViKTsKICAgIAogICAgICAgIHZhciBtYXJrZXJfYmFkYzRlM2VlYmI2NDViYzk2N2EwZjU0MTUyMjBjYzQgPSBMLm1hcmtlcigKICAgICAgICAgICAgWzMwLCAtMTAwXSwKICAgICAgICAgICAgewogICAgICAgICAgICAgICAgaWNvbjogbmV3IEwuSWNvbi5EZWZhdWx0KCkKICAgICAgICAgICAgICAgIH0KICAgICAgICAgICAgKS5hZGRUbyhtYXBfZWQ0ZDFlZmY0ZWYwNDk5NmE1YTIxMWJlNTYzNjAwNWIpOwogICAgICAgIAogICAgCiAgICAgICAgICAgIHZhciBwb3B1cF8xMDAzMDBmOTQ4MGQ0ZTJiOThlN2ZiZDFlNDdmYWZhMSA9IEwucG9wdXAoe21heFdpZHRoOiAnMzAwJwogICAgICAgICAgICAKICAgICAgICAgICAgfSk7CgogICAgICAgICAgICAKICAgICAgICAgICAgICAgIHZhciBodG1sX2U2ZjJjOWQ0ODllNzRiODM5N2Y0ZjQyNWUyOTM2NTcxID0gJCgnPGRpdiBpZD0iaHRtbF9lNmYyYzlkNDg5ZTc0YjgzOTdmNGY0MjVlMjkzNjU3MSIgc3R5bGU9IndpZHRoOiAxMDAuMCU7IGhlaWdodDogMTAwLjAlOyI+ICAgICA8aDE+IFRoaXMgaXMgYSBiaWcgcG9wdXA8L2gxPjxicj4gICAgIFdpdGggYSBmZXcgbGluZXMgb2YgY29kZS4uLiAgICAgPHA+ICAgICA8Y29kZT4gICAgICAgICBmcm9tIG51bXB5IGltcG9ydCAqPGJyPiAgICAgICAgIGV4cCgtMipwaSkgICAgIDwvY29kZT4gICAgIDwvcD4gICAgIDwvZGl2PicpWzBdOwogICAgICAgICAgICAgICAgcG9wdXBfMTAwMzAwZjk0ODBkNGUyYjk4ZTdmYmQxZTQ3ZmFmYTEuc2V0Q29udGVudChodG1sX2U2ZjJjOWQ0ODllNzRiODM5N2Y0ZjQyNWUyOTM2NTcxKTsKICAgICAgICAgICAgCgogICAgICAgICAgICBtYXJrZXJfYmFkYzRlM2VlYmI2NDViYzk2N2EwZjU0MTUyMjBjYzQuYmluZFBvcHVwKHBvcHVwXzEwMDMwMGY5NDgwZDRlMmI5OGU3ZmJkMWU0N2ZhZmExKQogICAgICAgICAgICA7CgogICAgICAgICAgICAKICAgICAgICAKPC9zY3JpcHQ+\" style=\"position:absolute;width:100%;height:100%;left:0;top:0;border:none !important;\" allowfullscreen webkitallowfullscreen mozallowfullscreen></iframe></div></div>"
      ],
      "text/plain": [
       "<folium.folium.Map at 0x7fe31f2b4250>"
      ]
     },
     "execution_count": 7,
     "metadata": {},
     "output_type": "execute_result"
    }
   ],
   "source": [
    "import branca\n",
    "\n",
    "\n",
    "m = folium.Map([43, -100], zoom_start=4)\n",
    "\n",
    "html = \"\"\"\n",
    "    <h1> This is a big popup</h1><br>\n",
    "    With a few lines of code...\n",
    "    <p>\n",
    "    <code>\n",
    "        from numpy import *<br>\n",
    "        exp(-2*pi)\n",
    "    </code>\n",
    "    </p>\n",
    "    \"\"\"\n",
    "\n",
    "\n",
    "folium.Marker([30, -100], popup=html).add_to(m)\n",
    "\n",
    "#m.save(os.path.join('results', 'html_popups.html'))\n",
    "\n",
    "m"
   ]
  },
  {
   "cell_type": "markdown",
   "metadata": {},
   "source": [
    "You can also put any HTML code inside of a Popup, thaks to the `IFrame` object."
   ]
  },
  {
   "cell_type": "code",
   "execution_count": 8,
   "metadata": {},
   "outputs": [
    {
     "data": {
      "text/html": [
       "<div style=\"width:100%;\"><div style=\"position:relative;width:100%;height:0;padding-bottom:60%;\"><iframe src=\"data:text/html;charset=utf-8;base64,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\" style=\"position:absolute;width:100%;height:100%;left:0;top:0;border:none !important;\" allowfullscreen webkitallowfullscreen mozallowfullscreen></iframe></div></div>"
      ],
      "text/plain": [
       "<folium.folium.Map at 0x7fe31f2c0550>"
      ]
     },
     "execution_count": 8,
     "metadata": {},
     "output_type": "execute_result"
    }
   ],
   "source": [
    "m = folium.Map([43, -100], zoom_start=4)\n",
    "\n",
    "html = \"\"\"\n",
    "    <h1> This popup is an Iframe</h1><br>\n",
    "    With a few lines of code...\n",
    "    <p>\n",
    "    <code>\n",
    "        from numpy import *<br>\n",
    "        exp(-2*pi)\n",
    "    </code>\n",
    "    </p>\n",
    "    \"\"\"\n",
    "\n",
    "iframe = branca.element.IFrame(html=html, width=500, height=300)\n",
    "popup = folium.Popup(iframe, max_width=500)\n",
    "\n",
    "folium.Marker([30, -100], popup=popup).add_to(m)\n",
    "\n",
    "#m.save(os.path.join('results', 'html_popups.html'))\n",
    "\n",
    "m"
   ]
  },
  {
   "cell_type": "code",
   "execution_count": 9,
   "metadata": {},
   "outputs": [
    {
     "data": {
      "text/html": [
       "<div style=\"width:100%;\"><div style=\"position:relative;width:100%;height:0;padding-bottom:60%;\"><iframe src=\"data:text/html;charset=utf-8;base64,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\" style=\"position:absolute;width:100%;height:100%;left:0;top:0;border:none !important;\" allowfullscreen webkitallowfullscreen mozallowfullscreen></iframe></div></div>"
      ],
      "text/plain": [
       "<folium.folium.Map at 0x7fe31f299990>"
      ]
     },
     "execution_count": 9,
     "metadata": {},
     "output_type": "execute_result"
    }
   ],
   "source": [
    "import pandas as pd\n",
    "\n",
    "df = pd.DataFrame(data=[['apple', 'oranges'], ['other', 'stuff']], columns=['cats', 'dogs'])\n",
    "\n",
    "m = folium.Map([43, -100], zoom_start=4)\n",
    "\n",
    "html = df.to_html(classes='table table-striped table-hover table-condensed table-responsive')\n",
    "\n",
    "popup = folium.Popup(html)\n",
    "\n",
    "folium.Marker([30, -100], popup=popup).add_to(m)\n",
    "\n",
    "#m.save(os.path.join('results', 'html_popups.html'))\n",
    "\n",
    "m"
   ]
  },
  {
   "cell_type": "markdown",
   "metadata": {},
   "source": [
    "Note that you can put another `Figure` into an `IFrame` ; this should let you do stange things..."
   ]
  },
  {
   "cell_type": "code",
   "execution_count": 10,
   "metadata": {},
   "outputs": [
    {
     "data": {
      "text/html": [
       "<div style=\"width:100%;\"><div style=\"position:relative;width:100%;height:0;padding-bottom:60%;\"><iframe src=\"data:text/html;charset=utf-8;base64,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\" style=\"position:absolute;width:100%;height:100%;left:0;top:0;border:none !important;\" allowfullscreen webkitallowfullscreen mozallowfullscreen></iframe></div></div>"
      ],
      "text/plain": [
       "<folium.folium.Map at 0x7fe31f299b10>"
      ]
     },
     "execution_count": 10,
     "metadata": {},
     "output_type": "execute_result"
    }
   ],
   "source": [
    "# Let's create a Figure, with a map inside.\n",
    "f = branca.element.Figure()\n",
    "folium.Map([-25, 150], zoom_start=3).add_to(f)\n",
    "\n",
    "# Let's put the figure into an IFrame.\n",
    "iframe = branca.element.IFrame(width=500, height=300)\n",
    "f.add_to(iframe)\n",
    "\n",
    "# Let's put the IFrame in a Popup\n",
    "popup = folium.Popup(iframe, max_width=2650)\n",
    "\n",
    "# Let's create another map.\n",
    "m = folium.Map([43, -100], zoom_start=4)\n",
    "\n",
    "# Let's put the Popup on a marker, in the second map.\n",
    "folium.Marker([30, -100], popup=popup).add_to(m)\n",
    "\n",
    "# We get a map in a Popup. Not really useful, but powerful.\n",
    "#m.save(os.path.join('results', 'map_popups.html'))\n",
    "\n",
    "m"
   ]
  },
  {
   "cell_type": "code",
   "execution_count": null,
   "metadata": {},
   "outputs": [],
   "source": []
  }
 ],
 "metadata": {
  "kernelspec": {
   "display_name": "Python 3",
   "language": "python",
   "name": "python3"
  },
  "language_info": {
   "codemirror_mode": {
    "name": "ipython",
    "version": 3
   },
   "file_extension": ".py",
   "mimetype": "text/x-python",
   "name": "python",
   "nbconvert_exporter": "python",
   "pygments_lexer": "ipython3",
   "version": "3.6.8"
  }
 },
 "nbformat": 4,
 "nbformat_minor": 1
}
